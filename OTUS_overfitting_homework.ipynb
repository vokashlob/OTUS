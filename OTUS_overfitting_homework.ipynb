{
  "nbformat": 4,
  "nbformat_minor": 0,
  "metadata": {
    "colab": {
      "name": "OTUS_overfitting_homework.ipynb",
      "provenance": [],
      "collapsed_sections": [],
      "authorship_tag": "ABX9TyPwrnjXs51q6JZ1HDm99F3C",
      "include_colab_link": true
    },
    "kernelspec": {
      "name": "python3",
      "display_name": "Python 3"
    },
    "language_info": {
      "name": "python"
    },
    "accelerator": "GPU"
  },
  "cells": [
    {
      "cell_type": "markdown",
      "metadata": {
        "id": "view-in-github",
        "colab_type": "text"
      },
      "source": [
        "<a href=\"https://colab.research.google.com/github/vokashlob/OTUS/blob/main/OTUS_overfitting_homework.ipynb\" target=\"_parent\"><img src=\"https://colab.research.google.com/assets/colab-badge.svg\" alt=\"Open In Colab\"/></a>"
      ]
    },
    {
      "cell_type": "markdown",
      "metadata": {
        "id": "FumKGHOwt1Ni"
      },
      "source": [
        "## ИМПОРТ"
      ]
    },
    {
      "cell_type": "code",
      "metadata": {
        "id": "NxOWphGnsVZy"
      },
      "source": [
        "import torch\n",
        "from torch import nn\n",
        "from torch.utils.data import Dataset\n",
        "import torch.nn.functional as F\n",
        "from torchvision import datasets\n",
        "from torchvision.transforms import ToTensor\n",
        "import matplotlib.pyplot as plt\n",
        "from torch.utils.data import DataLoader\n",
        "%matplotlib inline"
      ],
      "execution_count": 79,
      "outputs": []
    },
    {
      "cell_type": "markdown",
      "metadata": {
        "id": "o-PPUX8zcDU1"
      },
      "source": [
        "## ПАРАМЕТРЫ\n"
      ]
    },
    {
      "cell_type": "code",
      "metadata": {
        "id": "E_LWVxcUcILg"
      },
      "source": [
        "batch_size = 64\n",
        "learning_rate = 1e-4\n",
        "epochs = 5\n",
        "l2 = 0\n"
      ],
      "execution_count": 80,
      "outputs": []
    },
    {
      "cell_type": "markdown",
      "metadata": {
        "id": "VsnPnJD1t8i0"
      },
      "source": [
        "## ЗАГРУЖАЕМ ДАННЫЕ"
      ]
    },
    {
      "cell_type": "code",
      "metadata": {
        "id": "fz-tuzASt5Yi"
      },
      "source": [
        "training_data = datasets.FashionMNIST(\n",
        "    root=\"data\",\n",
        "    train=True,\n",
        "    download=True,\n",
        "    transform=ToTensor()\n",
        ")\n",
        "\n",
        "test_data = datasets.FashionMNIST(\n",
        "    root=\"data\",\n",
        "    train=False,\n",
        "    download=True,\n",
        "    transform=ToTensor()\n",
        ")\n",
        "\n",
        "train_dataloader = DataLoader(training_data, batch_size=batch_size, shuffle=True)\n",
        "test_dataloader = DataLoader(test_data, batch_size=batch_size, shuffle=True)"
      ],
      "execution_count": 81,
      "outputs": []
    },
    {
      "cell_type": "markdown",
      "metadata": {
        "id": "fFH7G1VHuE75"
      },
      "source": [
        "## ТЕСТОВАЯ ОТРИСОВКА"
      ]
    },
    {
      "cell_type": "code",
      "metadata": {
        "colab": {
          "base_uri": "https://localhost:8080/",
          "height": 482
        },
        "id": "yBhhwq6otCia",
        "outputId": "75ea0e96-dc84-4f4e-84d9-c0624d951ef5"
      },
      "source": [
        "labels_map = {\n",
        "    0: \"T-Shirt\",\n",
        "    1: \"Trouser\",\n",
        "    2: \"Pullover\",\n",
        "    3: \"Dress\",\n",
        "    4: \"Coat\",\n",
        "    5: \"Sandal\",\n",
        "    6: \"Shirt\",\n",
        "    7: \"Sneaker\",\n",
        "    8: \"Bag\",\n",
        "    9: \"Ankle Boot\",\n",
        "}\n",
        "figure = plt.figure(figsize=(8, 8))\n",
        "cols, rows = 3, 3\n",
        "for i in range(1, cols * rows + 1):\n",
        "    sample_idx = torch.randint(len(training_data), size=(1,)).item()\n",
        "    img, label = training_data[sample_idx]\n",
        "    figure.add_subplot(rows, cols, i)\n",
        "    plt.title(labels_map[label])\n",
        "    plt.axis(\"off\")\n",
        "    plt.imshow(img.squeeze(), cmap=\"gray\")\n",
        "plt.show()"
      ],
      "execution_count": 82,
      "outputs": [
        {
          "output_type": "display_data",
          "data": {
            "image/png": "[encoded data removed]",
            "text/plain": [
              "<Figure size 576x576 with 9 Axes>"
            ]
          },
          "metadata": {
            "tags": [],
            "needs_background": "light"
          }
        }
      ]
    },
    {
      "cell_type": "code",
      "metadata": {
        "colab": {
          "base_uri": "https://localhost:8080/",
          "height": 319
        },
        "id": "XpiSk19CtyLI",
        "outputId": "221243a0-6f11-4760-96fd-3ffe1a3622b7"
      },
      "source": [
        "train_features, train_labels = next(iter(train_dataloader))\n",
        "print(f\"Размер батча с фичами: {train_features.size()}\")\n",
        "print(f\"Размер батча с метками: {train_labels.size()}\")\n",
        "img = train_features[0].squeeze()\n",
        "label = labels_map[train_labels[0].item()]\n",
        "plt.imshow(img, cmap=\"gray\")\n",
        "plt.show()\n",
        "print(f\"Метка: {label}\")"
      ],
      "execution_count": 83,
      "outputs": [
        {
          "output_type": "stream",
          "text": [
            "Размер батча с фичами: torch.Size([64, 1, 28, 28])\n",
            "Размер батча с метками: torch.Size([64])\n"
          ],
          "name": "stdout"
        },
        {
          "output_type": "display_data",
          "data": {
            "image/png": "[encoded data removed]",
            "text/plain": [
              "<Figure size 432x288 with 1 Axes>"
            ]
          },
          "metadata": {
            "tags": [],
            "needs_background": "light"
          }
        },
        {
          "output_type": "stream",
          "text": [
            "Метка: Ankle Boot\n"
          ],
          "name": "stdout"
        }
      ]
    },
    {
      "cell_type": "markdown",
      "metadata": {
        "id": "Zyk1TX6Y02JW"
      },
      "source": [
        "## GPU TEST"
      ]
    },
    {
      "cell_type": "code",
      "metadata": {
        "colab": {
          "base_uri": "https://localhost:8080/"
        },
        "id": "CuzMQ-Wf05Ih",
        "outputId": "9d8ac1c5-870a-4f73-bf0f-26079e54b2fc"
      },
      "source": [
        "device = 'cuda' if torch.cuda.is_available() else 'cpu'\n",
        "print('Using {} device'.format(device))"
      ],
      "execution_count": 84,
      "outputs": [
        {
          "output_type": "stream",
          "text": [
            "Using cuda device\n"
          ],
          "name": "stdout"
        }
      ]
    },
    {
      "cell_type": "markdown",
      "metadata": {
        "id": "K_A3RCAi0YcP"
      },
      "source": [
        "## СТРОИМ МОДЕЛЬ (без batchnorm и dropout)"
      ]
    },
    {
      "cell_type": "code",
      "metadata": {
        "colab": {
          "base_uri": "https://localhost:8080/"
        },
        "id": "woXkbAofzkQH",
        "outputId": "b95122a9-8f4f-4abd-9185-f65b0ae2d15b"
      },
      "source": [
        "class NeuralNetwork(nn.Module):\n",
        "    def __init__(self, lr=learning_rate, l2=l2):\n",
        "        super(NeuralNetwork, self).__init__()\n",
        "        self.flatten = nn.Flatten()\n",
        "        self.linear_relu_stack = nn.Sequential(\n",
        "            nn.Linear(28*28, 512),\n",
        "            nn.ReLU(),\n",
        "            nn.Linear(512, 512),\n",
        "            nn.ReLU(),\n",
        "            nn.Linear(512, 10),\n",
        "            nn.ReLU()\n",
        "        )\n",
        "\n",
        "    def forward(self, x):\n",
        "        x = self.flatten(x)\n",
        "        logits = self.linear_relu_stack(x)\n",
        "        return logits\n",
        "\n",
        "model = NeuralNetwork().to(device)\n",
        "\n",
        "print(\"Структура модели: \", model, \"\\n\\n\")\n",
        "\n",
        "for name, param in model.named_parameters():\n",
        "    print(f\"Слой: {name} | Размер: {param.size()} | Значения : {param[:2]} \\n\")"
      ],
      "execution_count": 85,
      "outputs": [
        {
          "output_type": "stream",
          "text": [
            "Структура модели:  NeuralNetwork(\n",
            "  (flatten): Flatten(start_dim=1, end_dim=-1)\n",
            "  (linear_relu_stack): Sequential(\n",
            "    (0): Linear(in_features=784, out_features=512, bias=True)\n",
            "    (1): ReLU()\n",
            "    (2): Linear(in_features=512, out_features=512, bias=True)\n",
            "    (3): ReLU()\n",
            "    (4): Linear(in_features=512, out_features=10, bias=True)\n",
            "    (5): ReLU()\n",
            "  )\n",
            ") \n",
            "\n",
            "\n",
            "Слой: linear_relu_stack.0.weight | Размер: torch.Size([512, 784]) | Значения : tensor([[ 0.0290,  0.0282,  0.0249,  ...,  0.0077,  0.0305,  0.0064],\n",
            "        [-0.0344,  0.0167, -0.0103,  ...,  0.0260, -0.0255, -0.0085]],\n",
            "       device='cuda:0', grad_fn=<SliceBackward>) \n",
            "\n",
            "Слой: linear_relu_stack.0.bias | Размер: torch.Size([512]) | Значения : tensor([ 0.0325, -0.0347], device='cuda:0', grad_fn=<SliceBackward>) \n",
            "\n",
            "Слой: linear_relu_stack.2.weight | Размер: torch.Size([512, 512]) | Значения : tensor([[-0.0036, -0.0078, -0.0037,  ...,  0.0228,  0.0325, -0.0220],\n",
            "        [-0.0154,  0.0123,  0.0301,  ...,  0.0020, -0.0116, -0.0190]],\n",
            "       device='cuda:0', grad_fn=<SliceBackward>) \n",
            "\n",
            "Слой: linear_relu_stack.2.bias | Размер: torch.Size([512]) | Значения : tensor([-0.0178, -0.0129], device='cuda:0', grad_fn=<SliceBackward>) \n",
            "\n",
            "Слой: linear_relu_stack.4.weight | Размер: torch.Size([10, 512]) | Значения : tensor([[ 0.0168,  0.0103, -0.0387,  ...,  0.0101,  0.0404,  0.0358],\n",
            "        [ 0.0413, -0.0304,  0.0223,  ...,  0.0380,  0.0115, -0.0337]],\n",
            "       device='cuda:0', grad_fn=<SliceBackward>) \n",
            "\n",
            "Слой: linear_relu_stack.4.bias | Размер: torch.Size([10]) | Значения : tensor([-0.0139,  0.0098], device='cuda:0', grad_fn=<SliceBackward>) \n",
            "\n"
          ],
          "name": "stdout"
        }
      ]
    },
    {
      "cell_type": "code",
      "metadata": {
        "id": "fuf18nXBflNE"
      },
      "source": [
        "loss_fn = nn.CrossEntropyLoss()\n",
        "optimtzer = optimizer = torch.optim.SGD(model.parameters(), lr=learning_rate, weight_decay=l2)\n",
        "train_log = []\n",
        "test_log = []"
      ],
      "execution_count": 86,
      "outputs": []
    },
    {
      "cell_type": "code",
      "metadata": {
        "id": "o0lh9GUbflqv"
      },
      "source": [
        "def train_loop(dataloader, model, loss_fn, optimizer):\n",
        "    size = len(dataloader.dataset)\n",
        "    for batch, (X, y) in enumerate(dataloader):\n",
        "        # Compute prediction and loss\n",
        "        pred = model(X.to(device))\n",
        "        loss = loss_fn(pred, y.to(device))\n",
        "\n",
        "        # Backpropagation\n",
        "        optimizer.zero_grad()\n",
        "        loss.backward()\n",
        "        optimizer.step()\n",
        "\n",
        "        if batch % 100 == 0:\n",
        "            loss, current = loss.item(), batch * len(X)\n",
        "            print(f\"loss: {loss:>7f}  [{current:>5d}/{size:>5d}]\")\n",
        "\n",
        "        if train_log is not None:\n",
        "          train_log.append(loss)\n",
        "\n",
        "\n",
        "def test_loop(dataloader, model, loss_fn):\n",
        "    size = len(dataloader.dataset)\n",
        "    test_loss, correct = 0, 0\n",
        "\n",
        "    with torch.no_grad():\n",
        "        for X, y in dataloader:\n",
        "            pred = model(X.to(device))\n",
        "            test_loss += loss_fn(pred, y.to(device)).item()\n",
        "            correct += (pred.argmax(1) == y.to(device)).type(torch.float).sum().item()\n",
        "            \n",
        "            if test_log is not None:\n",
        "              test_log.append(test_loss)\n",
        "\n",
        "    test_loss /= size\n",
        "    correct /= size\n",
        "\n",
        "    \n",
        "\n",
        "\n",
        "    print(f\"Test Error: \\n Accuracy: {(100*correct):>0.1f}%, Avg loss: {test_loss:>8f} \\n\")"
      ],
      "execution_count": 107,
      "outputs": []
    },
    {
      "cell_type": "code",
      "metadata": {
        "colab": {
          "base_uri": "https://localhost:8080/"
        },
        "id": "7s76OA2Rf6MT",
        "outputId": "bc9bd926-9c2c-4304-f66a-1659adbc7cbb"
      },
      "source": [
        "for t in range(epochs):\n",
        "    print(f\"Эпоха {t+1}\\n-------------------------------\")\n",
        "    train_loop(train_dataloader, model, loss_fn, optimizer)\n",
        "    test_loop(test_dataloader, model, loss_fn)\n",
        "print(\"Готово!\")"
      ],
      "execution_count": 108,
      "outputs": [
        {
          "output_type": "stream",
          "text": [
            "Эпоха 1\n",
            "-------------------------------\n",
            "loss: 2.267772  [    0/60000]\n",
            "loss: 2.277132  [ 6400/60000]\n",
            "loss: 2.254688  [12800/60000]\n",
            "loss: 2.272145  [19200/60000]\n",
            "loss: 2.269969  [25600/60000]\n",
            "loss: 2.279720  [32000/60000]\n",
            "loss: 2.263507  [38400/60000]\n",
            "loss: 2.278184  [44800/60000]\n",
            "loss: 2.285237  [51200/60000]\n",
            "loss: 2.256290  [57600/60000]\n",
            "Test Error: \n",
            " Accuracy: 37.8%, Avg loss: 0.035521 \n",
            "\n",
            "Эпоха 2\n",
            "-------------------------------\n",
            "loss: 2.264753  [    0/60000]\n",
            "loss: 2.262725  [ 6400/60000]\n",
            "loss: 2.250156  [12800/60000]\n",
            "loss: 2.266549  [19200/60000]\n",
            "loss: 2.252374  [25600/60000]\n",
            "loss: 2.251401  [32000/60000]\n",
            "loss: 2.240708  [38400/60000]\n",
            "loss: 2.237246  [44800/60000]\n",
            "loss: 2.252260  [51200/60000]\n",
            "loss: 2.264173  [57600/60000]\n",
            "Test Error: \n",
            " Accuracy: 38.6%, Avg loss: 0.035410 \n",
            "\n",
            "Эпоха 3\n",
            "-------------------------------\n",
            "loss: 2.267110  [    0/60000]\n",
            "loss: 2.242420  [ 6400/60000]\n",
            "loss: 2.255274  [12800/60000]\n",
            "loss: 2.260228  [19200/60000]\n",
            "loss: 2.261232  [25600/60000]\n",
            "loss: 2.252827  [32000/60000]\n",
            "loss: 2.226593  [38400/60000]\n",
            "loss: 2.220088  [44800/60000]\n",
            "loss: 2.249668  [51200/60000]\n",
            "loss: 2.240659  [57600/60000]\n",
            "Test Error: \n",
            " Accuracy: 39.1%, Avg loss: 0.035300 \n",
            "\n",
            "Эпоха 4\n",
            "-------------------------------\n",
            "loss: 2.246293  [    0/60000]\n",
            "loss: 2.250574  [ 6400/60000]\n",
            "loss: 2.236853  [12800/60000]\n",
            "loss: 2.226568  [19200/60000]\n",
            "loss: 2.230715  [25600/60000]\n",
            "loss: 2.228372  [32000/60000]\n",
            "loss: 2.253999  [38400/60000]\n",
            "loss: 2.245026  [44800/60000]\n",
            "loss: 2.235108  [51200/60000]\n",
            "loss: 2.222696  [57600/60000]\n",
            "Test Error: \n",
            " Accuracy: 39.4%, Avg loss: 0.035180 \n",
            "\n",
            "Эпоха 5\n",
            "-------------------------------\n",
            "loss: 2.246300  [    0/60000]\n",
            "loss: 2.237742  [ 6400/60000]\n",
            "loss: 2.243332  [12800/60000]\n",
            "loss: 2.230748  [19200/60000]\n",
            "loss: 2.249996  [25600/60000]\n",
            "loss: 2.215727  [32000/60000]\n",
            "loss: 2.231038  [38400/60000]\n",
            "loss: 2.215950  [44800/60000]\n",
            "loss: 2.242325  [51200/60000]\n",
            "loss: 2.253741  [57600/60000]\n",
            "Test Error: \n",
            " Accuracy: 39.7%, Avg loss: 0.035036 \n",
            "\n",
            "Готово!\n"
          ],
          "name": "stdout"
        }
      ]
    },
    {
      "cell_type": "code",
      "metadata": {
        "colab": {
          "base_uri": "https://localhost:8080/"
        },
        "id": "TKN26srUk5uc",
        "outputId": "983a4786-76aa-4f09-a8bb-f44155ff5f43"
      },
      "source": [
        "len(test_log)"
      ],
      "execution_count": 110,
      "outputs": [
        {
          "output_type": "execute_result",
          "data": {
            "text/plain": [
              "790"
            ]
          },
          "metadata": {
            "tags": []
          },
          "execution_count": 110
        }
      ]
    },
    {
      "cell_type": "code",
      "metadata": {
        "colab": {
          "base_uri": "https://localhost:8080/"
        },
        "id": "rviWsB_8p29l",
        "outputId": "2cc4b9fe-b29a-413a-a420-a80ee5d46eab"
      },
      "source": [
        "len(train_log)"
      ],
      "execution_count": 111,
      "outputs": [
        {
          "output_type": "execute_result",
          "data": {
            "text/plain": [
              "9380"
            ]
          },
          "metadata": {
            "tags": []
          },
          "execution_count": 111
        }
      ]
    },
    {
      "cell_type": "code",
      "metadata": {
        "colab": {
          "base_uri": "https://localhost:8080/",
          "height": 171
        },
        "id": "aXaw-eq-wNgH",
        "outputId": "9636df42-e6f4-4a99-ae10-96c9ee5b66d9"
      },
      "source": [
        "plt.plot(len(test_log, test_log))"
      ],
      "execution_count": 1,
      "outputs": [
        {
          "output_type": "error",
          "ename": "NameError",
          "evalue": "ignored",
          "traceback": [
            "\u001b[0;31m---------------------------------------------------------------------------\u001b[0m",
            "\u001b[0;31mNameError\u001b[0m                                 Traceback (most recent call last)",
            "\u001b[0;32m<ipython-input-1-68381aacb65f>\u001b[0m in \u001b[0;36m<module>\u001b[0;34m()\u001b[0m\n\u001b[0;32m----> 1\u001b[0;31m \u001b[0mplt\u001b[0m\u001b[0;34m.\u001b[0m\u001b[0mplot\u001b[0m\u001b[0;34m(\u001b[0m\u001b[0mlen\u001b[0m\u001b[0;34m(\u001b[0m\u001b[0mtest_log\u001b[0m\u001b[0;34m,\u001b[0m \u001b[0mtest_log\u001b[0m\u001b[0;34m)\u001b[0m\u001b[0;34m)\u001b[0m\u001b[0;34m\u001b[0m\u001b[0;34m\u001b[0m\u001b[0m\n\u001b[0m",
            "\u001b[0;31mNameError\u001b[0m: name 'plt' is not defined"
          ]
        }
      ]
    }
  ]
}