{
  "nbformat": 4,
  "nbformat_minor": 0,
  "metadata": {
    "kernelspec": {
      "display_name": "Python 3",
      "language": "python",
      "name": "python3"
    },
    "language_info": {
      "codemirror_mode": {
        "name": "ipython",
        "version": 3
      },
      "file_extension": ".py",
      "mimetype": "text/x-python",
      "name": "python",
      "nbconvert_exporter": "python",
      "pygments_lexer": "ipython3",
      "version": "3.6.8"
    },
    "colab": {
      "name": "OTUS \"denoising_ae.ipynb\"",
      "provenance": [],
      "collapsed_sections": [
        "4WKfa7i_oK74",
        "zsZh6YlLoOyv",
        "uzHKVSBz5D4d",
        "cLcdTHbG8HvZ",
        "yA8QWRXoCNZU"
      ],
      "include_colab_link": true
    },
    "accelerator": "GPU",
    "widgets": {
      "application/vnd.jupyter.widget-state+json": {
        "90b3cd660a4741babad14f5474ea7612": {
          "model_module": "@jupyter-widgets/controls",
          "model_name": "HBoxModel",
          "state": {
            "_view_name": "HBoxView",
            "_dom_classes": [],
            "_model_name": "HBoxModel",
            "_view_module": "@jupyter-widgets/controls",
            "_model_module_version": "1.5.0",
            "_view_count": null,
            "_view_module_version": "1.5.0",
            "box_style": "",
            "layout": "IPY_MODEL_941d1053c19748649df2b7e1346a890a",
            "_model_module": "@jupyter-widgets/controls",
            "children": [
              "IPY_MODEL_2f56e32d87654a3cb18b0831ba383c6d",
              "IPY_MODEL_6a88e806ae304c7fa80e7ebda4fdcfd2"
            ]
          }
        },
        "941d1053c19748649df2b7e1346a890a": {
          "model_module": "@jupyter-widgets/base",
          "model_name": "LayoutModel",
          "state": {
            "_view_name": "LayoutView",
            "grid_template_rows": null,
            "right": null,
            "justify_content": null,
            "_view_module": "@jupyter-widgets/base",
            "overflow": null,
            "_model_module_version": "1.2.0",
            "_view_count": null,
            "flex_flow": null,
            "width": null,
            "min_width": null,
            "border": null,
            "align_items": null,
            "bottom": null,
            "_model_module": "@jupyter-widgets/base",
            "top": null,
            "grid_column": null,
            "overflow_y": null,
            "overflow_x": null,
            "grid_auto_flow": null,
            "grid_area": null,
            "grid_template_columns": null,
            "flex": null,
            "_model_name": "LayoutModel",
            "justify_items": null,
            "grid_row": null,
            "max_height": null,
            "align_content": null,
            "visibility": null,
            "align_self": null,
            "height": null,
            "min_height": null,
            "padding": null,
            "grid_auto_rows": null,
            "grid_gap": null,
            "max_width": null,
            "order": null,
            "_view_module_version": "1.2.0",
            "grid_template_areas": null,
            "object_position": null,
            "object_fit": null,
            "grid_auto_columns": null,
            "margin": null,
            "display": null,
            "left": null
          }
        },
        "2f56e32d87654a3cb18b0831ba383c6d": {
          "model_module": "@jupyter-widgets/controls",
          "model_name": "FloatProgressModel",
          "state": {
            "_view_name": "ProgressView",
            "style": "IPY_MODEL_317c368e00834ce4a362d9b4ad7197b5",
            "_dom_classes": [],
            "description": "",
            "_model_name": "FloatProgressModel",
            "bar_style": "success",
            "max": 9912422,
            "_view_module": "@jupyter-widgets/controls",
            "_model_module_version": "1.5.0",
            "value": 9912422,
            "_view_count": null,
            "_view_module_version": "1.5.0",
            "orientation": "horizontal",
            "min": 0,
            "description_tooltip": null,
            "_model_module": "@jupyter-widgets/controls",
            "layout": "IPY_MODEL_73d84b59dab84090b80a0f399862a5f3"
          }
        },
        "6a88e806ae304c7fa80e7ebda4fdcfd2": {
          "model_module": "@jupyter-widgets/controls",
          "model_name": "HTMLModel",
          "state": {
            "_view_name": "HTMLView",
            "style": "IPY_MODEL_49bfc969bff64e9583b78247e36e8aba",
            "_dom_classes": [],
            "description": "",
            "_model_name": "HTMLModel",
            "placeholder": "​",
            "_view_module": "@jupyter-widgets/controls",
            "_model_module_version": "1.5.0",
            "value": " 9913344/? [16:49&lt;00:00, 9818.75it/s]",
            "_view_count": null,
            "_view_module_version": "1.5.0",
            "description_tooltip": null,
            "_model_module": "@jupyter-widgets/controls",
            "layout": "IPY_MODEL_fd0857467bb447bcb6733ab5a843a276"
          }
        },
        "317c368e00834ce4a362d9b4ad7197b5": {
          "model_module": "@jupyter-widgets/controls",
          "model_name": "ProgressStyleModel",
          "state": {
            "_view_name": "StyleView",
            "_model_name": "ProgressStyleModel",
            "description_width": "initial",
            "_view_module": "@jupyter-widgets/base",
            "_model_module_version": "1.5.0",
            "_view_count": null,
            "_view_module_version": "1.2.0",
            "bar_color": null,
            "_model_module": "@jupyter-widgets/controls"
          }
        },
        "73d84b59dab84090b80a0f399862a5f3": {
          "model_module": "@jupyter-widgets/base",
          "model_name": "LayoutModel",
          "state": {
            "_view_name": "LayoutView",
            "grid_template_rows": null,
            "right": null,
            "justify_content": null,
            "_view_module": "@jupyter-widgets/base",
            "overflow": null,
            "_model_module_version": "1.2.0",
            "_view_count": null,
            "flex_flow": null,
            "width": null,
            "min_width": null,
            "border": null,
            "align_items": null,
            "bottom": null,
            "_model_module": "@jupyter-widgets/base",
            "top": null,
            "grid_column": null,
            "overflow_y": null,
            "overflow_x": null,
            "grid_auto_flow": null,
            "grid_area": null,
            "grid_template_columns": null,
            "flex": null,
            "_model_name": "LayoutModel",
            "justify_items": null,
            "grid_row": null,
            "max_height": null,
            "align_content": null,
            "visibility": null,
            "align_self": null,
            "height": null,
            "min_height": null,
            "padding": null,
            "grid_auto_rows": null,
            "grid_gap": null,
            "max_width": null,
            "order": null,
            "_view_module_version": "1.2.0",
            "grid_template_areas": null,
            "object_position": null,
            "object_fit": null,
            "grid_auto_columns": null,
            "margin": null,
            "display": null,
            "left": null
          }
        },
        "49bfc969bff64e9583b78247e36e8aba": {
          "model_module": "@jupyter-widgets/controls",
          "model_name": "DescriptionStyleModel",
          "state": {
            "_view_name": "StyleView",
            "_model_name": "DescriptionStyleModel",
            "description_width": "",
            "_view_module": "@jupyter-widgets/base",
            "_model_module_version": "1.5.0",
            "_view_count": null,
            "_view_module_version": "1.2.0",
            "_model_module": "@jupyter-widgets/controls"
          }
        },
        "fd0857467bb447bcb6733ab5a843a276": {
          "model_module": "@jupyter-widgets/base",
          "model_name": "LayoutModel",
          "state": {
            "_view_name": "LayoutView",
            "grid_template_rows": null,
            "right": null,
            "justify_content": null,
            "_view_module": "@jupyter-widgets/base",
            "overflow": null,
            "_model_module_version": "1.2.0",
            "_view_count": null,
            "flex_flow": null,
            "width": null,
            "min_width": null,
            "border": null,
            "align_items": null,
            "bottom": null,
            "_model_module": "@jupyter-widgets/base",
            "top": null,
            "grid_column": null,
            "overflow_y": null,
            "overflow_x": null,
            "grid_auto_flow": null,
            "grid_area": null,
            "grid_template_columns": null,
            "flex": null,
            "_model_name": "LayoutModel",
            "justify_items": null,
            "grid_row": null,
            "max_height": null,
            "align_content": null,
            "visibility": null,
            "align_self": null,
            "height": null,
            "min_height": null,
            "padding": null,
            "grid_auto_rows": null,
            "grid_gap": null,
            "max_width": null,
            "order": null,
            "_view_module_version": "1.2.0",
            "grid_template_areas": null,
            "object_position": null,
            "object_fit": null,
            "grid_auto_columns": null,
            "margin": null,
            "display": null,
            "left": null
          }
        },
        "f660303cae224309b29718ee9b36ff28": {
          "model_module": "@jupyter-widgets/controls",
          "model_name": "HBoxModel",
          "state": {
            "_view_name": "HBoxView",
            "_dom_classes": [],
            "_model_name": "HBoxModel",
            "_view_module": "@jupyter-widgets/controls",
            "_model_module_version": "1.5.0",
            "_view_count": null,
            "_view_module_version": "1.5.0",
            "box_style": "",
            "layout": "IPY_MODEL_16b13b197426477dbf2c4136df509762",
            "_model_module": "@jupyter-widgets/controls",
            "children": [
              "IPY_MODEL_8940ffc3d1f842e2b995b9f2e828c5cb",
              "IPY_MODEL_fee59c842eb04bc0bb0e61d6e50cc3bc"
            ]
          }
        },
        "16b13b197426477dbf2c4136df509762": {
          "model_module": "@jupyter-widgets/base",
          "model_name": "LayoutModel",
          "state": {
            "_view_name": "LayoutView",
            "grid_template_rows": null,
            "right": null,
            "justify_content": null,
            "_view_module": "@jupyter-widgets/base",
            "overflow": null,
            "_model_module_version": "1.2.0",
            "_view_count": null,
            "flex_flow": null,
            "width": null,
            "min_width": null,
            "border": null,
            "align_items": null,
            "bottom": null,
            "_model_module": "@jupyter-widgets/base",
            "top": null,
            "grid_column": null,
            "overflow_y": null,
            "overflow_x": null,
            "grid_auto_flow": null,
            "grid_area": null,
            "grid_template_columns": null,
            "flex": null,
            "_model_name": "LayoutModel",
            "justify_items": null,
            "grid_row": null,
            "max_height": null,
            "align_content": null,
            "visibility": null,
            "align_self": null,
            "height": null,
            "min_height": null,
            "padding": null,
            "grid_auto_rows": null,
            "grid_gap": null,
            "max_width": null,
            "order": null,
            "_view_module_version": "1.2.0",
            "grid_template_areas": null,
            "object_position": null,
            "object_fit": null,
            "grid_auto_columns": null,
            "margin": null,
            "display": null,
            "left": null
          }
        },
        "8940ffc3d1f842e2b995b9f2e828c5cb": {
          "model_module": "@jupyter-widgets/controls",
          "model_name": "FloatProgressModel",
          "state": {
            "_view_name": "ProgressView",
            "style": "IPY_MODEL_2ed3a83323d1420baba2d7f1af0e60e6",
            "_dom_classes": [],
            "description": "",
            "_model_name": "FloatProgressModel",
            "bar_style": "success",
            "max": 28881,
            "_view_module": "@jupyter-widgets/controls",
            "_model_module_version": "1.5.0",
            "value": 28881,
            "_view_count": null,
            "_view_module_version": "1.5.0",
            "orientation": "horizontal",
            "min": 0,
            "description_tooltip": null,
            "_model_module": "@jupyter-widgets/controls",
            "layout": "IPY_MODEL_96d59d4200274659ad0a1cd575ceff0b"
          }
        },
        "fee59c842eb04bc0bb0e61d6e50cc3bc": {
          "model_module": "@jupyter-widgets/controls",
          "model_name": "HTMLModel",
          "state": {
            "_view_name": "HTMLView",
            "style": "IPY_MODEL_1be56fd9b77746229b1508523e56383e",
            "_dom_classes": [],
            "description": "",
            "_model_name": "HTMLModel",
            "placeholder": "​",
            "_view_module": "@jupyter-widgets/controls",
            "_model_module_version": "1.5.0",
            "value": " 29696/? [00:00&lt;00:00, 57203.53it/s]",
            "_view_count": null,
            "_view_module_version": "1.5.0",
            "description_tooltip": null,
            "_model_module": "@jupyter-widgets/controls",
            "layout": "IPY_MODEL_4b47e662364048febf3fe9ad9fefd7c7"
          }
        },
        "2ed3a83323d1420baba2d7f1af0e60e6": {
          "model_module": "@jupyter-widgets/controls",
          "model_name": "ProgressStyleModel",
          "state": {
            "_view_name": "StyleView",
            "_model_name": "ProgressStyleModel",
            "description_width": "initial",
            "_view_module": "@jupyter-widgets/base",
            "_model_module_version": "1.5.0",
            "_view_count": null,
            "_view_module_version": "1.2.0",
            "bar_color": null,
            "_model_module": "@jupyter-widgets/controls"
          }
        },
        "96d59d4200274659ad0a1cd575ceff0b": {
          "model_module": "@jupyter-widgets/base",
          "model_name": "LayoutModel",
          "state": {
            "_view_name": "LayoutView",
            "grid_template_rows": null,
            "right": null,
            "justify_content": null,
            "_view_module": "@jupyter-widgets/base",
            "overflow": null,
            "_model_module_version": "1.2.0",
            "_view_count": null,
            "flex_flow": null,
            "width": null,
            "min_width": null,
            "border": null,
            "align_items": null,
            "bottom": null,
            "_model_module": "@jupyter-widgets/base",
            "top": null,
            "grid_column": null,
            "overflow_y": null,
            "overflow_x": null,
            "grid_auto_flow": null,
            "grid_area": null,
            "grid_template_columns": null,
            "flex": null,
            "_model_name": "LayoutModel",
            "justify_items": null,
            "grid_row": null,
            "max_height": null,
            "align_content": null,
            "visibility": null,
            "align_self": null,
            "height": null,
            "min_height": null,
            "padding": null,
            "grid_auto_rows": null,
            "grid_gap": null,
            "max_width": null,
            "order": null,
            "_view_module_version": "1.2.0",
            "grid_template_areas": null,
            "object_position": null,
            "object_fit": null,
            "grid_auto_columns": null,
            "margin": null,
            "display": null,
            "left": null
          }
        },
        "1be56fd9b77746229b1508523e56383e": {
          "model_module": "@jupyter-widgets/controls",
          "model_name": "DescriptionStyleModel",
          "state": {
            "_view_name": "StyleView",
            "_model_name": "DescriptionStyleModel",
            "description_width": "",
            "_view_module": "@jupyter-widgets/base",
            "_model_module_version": "1.5.0",
            "_view_count": null,
            "_view_module_version": "1.2.0",
            "_model_module": "@jupyter-widgets/controls"
          }
        },
        "4b47e662364048febf3fe9ad9fefd7c7": {
          "model_module": "@jupyter-widgets/base",
          "model_name": "LayoutModel",
          "state": {
            "_view_name": "LayoutView",
            "grid_template_rows": null,
            "right": null,
            "justify_content": null,
            "_view_module": "@jupyter-widgets/base",
            "overflow": null,
            "_model_module_version": "1.2.0",
            "_view_count": null,
            "flex_flow": null,
            "width": null,
            "min_width": null,
            "border": null,
            "align_items": null,
            "bottom": null,
            "_model_module": "@jupyter-widgets/base",
            "top": null,
            "grid_column": null,
            "overflow_y": null,
            "overflow_x": null,
            "grid_auto_flow": null,
            "grid_area": null,
            "grid_template_columns": null,
            "flex": null,
            "_model_name": "LayoutModel",
            "justify_items": null,
            "grid_row": null,
            "max_height": null,
            "align_content": null,
            "visibility": null,
            "align_self": null,
            "height": null,
            "min_height": null,
            "padding": null,
            "grid_auto_rows": null,
            "grid_gap": null,
            "max_width": null,
            "order": null,
            "_view_module_version": "1.2.0",
            "grid_template_areas": null,
            "object_position": null,
            "object_fit": null,
            "grid_auto_columns": null,
            "margin": null,
            "display": null,
            "left": null
          }
        },
        "6303285ecc0b4be990c7eb1b1579c5aa": {
          "model_module": "@jupyter-widgets/controls",
          "model_name": "HBoxModel",
          "state": {
            "_view_name": "HBoxView",
            "_dom_classes": [],
            "_model_name": "HBoxModel",
            "_view_module": "@jupyter-widgets/controls",
            "_model_module_version": "1.5.0",
            "_view_count": null,
            "_view_module_version": "1.5.0",
            "box_style": "",
            "layout": "IPY_MODEL_dc435c894ba446dbbeebf4863229c811",
            "_model_module": "@jupyter-widgets/controls",
            "children": [
              "IPY_MODEL_592a3ddf50af443dbce120880edfbe4a",
              "IPY_MODEL_5437688f989f4c2cb4437d93a03c1407"
            ]
          }
        },
        "dc435c894ba446dbbeebf4863229c811": {
          "model_module": "@jupyter-widgets/base",
          "model_name": "LayoutModel",
          "state": {
            "_view_name": "LayoutView",
            "grid_template_rows": null,
            "right": null,
            "justify_content": null,
            "_view_module": "@jupyter-widgets/base",
            "overflow": null,
            "_model_module_version": "1.2.0",
            "_view_count": null,
            "flex_flow": null,
            "width": null,
            "min_width": null,
            "border": null,
            "align_items": null,
            "bottom": null,
            "_model_module": "@jupyter-widgets/base",
            "top": null,
            "grid_column": null,
            "overflow_y": null,
            "overflow_x": null,
            "grid_auto_flow": null,
            "grid_area": null,
            "grid_template_columns": null,
            "flex": null,
            "_model_name": "LayoutModel",
            "justify_items": null,
            "grid_row": null,
            "max_height": null,
            "align_content": null,
            "visibility": null,
            "align_self": null,
            "height": null,
            "min_height": null,
            "padding": null,
            "grid_auto_rows": null,
            "grid_gap": null,
            "max_width": null,
            "order": null,
            "_view_module_version": "1.2.0",
            "grid_template_areas": null,
            "object_position": null,
            "object_fit": null,
            "grid_auto_columns": null,
            "margin": null,
            "display": null,
            "left": null
          }
        },
        "592a3ddf50af443dbce120880edfbe4a": {
          "model_module": "@jupyter-widgets/controls",
          "model_name": "FloatProgressModel",
          "state": {
            "_view_name": "ProgressView",
            "style": "IPY_MODEL_dcedd3ffd7ff44c0ab8b4c162a4980e1",
            "_dom_classes": [],
            "description": "",
            "_model_name": "FloatProgressModel",
            "bar_style": "success",
            "max": 1648877,
            "_view_module": "@jupyter-widgets/controls",
            "_model_module_version": "1.5.0",
            "value": 1648877,
            "_view_count": null,
            "_view_module_version": "1.5.0",
            "orientation": "horizontal",
            "min": 0,
            "description_tooltip": null,
            "_model_module": "@jupyter-widgets/controls",
            "layout": "IPY_MODEL_3d962d34a59844a6ba58e511f733f37d"
          }
        },
        "5437688f989f4c2cb4437d93a03c1407": {
          "model_module": "@jupyter-widgets/controls",
          "model_name": "HTMLModel",
          "state": {
            "_view_name": "HTMLView",
            "style": "IPY_MODEL_fdfe62dd96684f8284a56ad28d831913",
            "_dom_classes": [],
            "description": "",
            "_model_name": "HTMLModel",
            "placeholder": "​",
            "_view_module": "@jupyter-widgets/controls",
            "_model_module_version": "1.5.0",
            "value": " 1649664/? [11:47&lt;00:00, 2330.18it/s]",
            "_view_count": null,
            "_view_module_version": "1.5.0",
            "description_tooltip": null,
            "_model_module": "@jupyter-widgets/controls",
            "layout": "IPY_MODEL_0b8234e71be144449c70f020c310b627"
          }
        },
        "dcedd3ffd7ff44c0ab8b4c162a4980e1": {
          "model_module": "@jupyter-widgets/controls",
          "model_name": "ProgressStyleModel",
          "state": {
            "_view_name": "StyleView",
            "_model_name": "ProgressStyleModel",
            "description_width": "initial",
            "_view_module": "@jupyter-widgets/base",
            "_model_module_version": "1.5.0",
            "_view_count": null,
            "_view_module_version": "1.2.0",
            "bar_color": null,
            "_model_module": "@jupyter-widgets/controls"
          }
        },
        "3d962d34a59844a6ba58e511f733f37d": {
          "model_module": "@jupyter-widgets/base",
          "model_name": "LayoutModel",
          "state": {
            "_view_name": "LayoutView",
            "grid_template_rows": null,
            "right": null,
            "justify_content": null,
            "_view_module": "@jupyter-widgets/base",
            "overflow": null,
            "_model_module_version": "1.2.0",
            "_view_count": null,
            "flex_flow": null,
            "width": null,
            "min_width": null,
            "border": null,
            "align_items": null,
            "bottom": null,
            "_model_module": "@jupyter-widgets/base",
            "top": null,
            "grid_column": null,
            "overflow_y": null,
            "overflow_x": null,
            "grid_auto_flow": null,
            "grid_area": null,
            "grid_template_columns": null,
            "flex": null,
            "_model_name": "LayoutModel",
            "justify_items": null,
            "grid_row": null,
            "max_height": null,
            "align_content": null,
            "visibility": null,
            "align_self": null,
            "height": null,
            "min_height": null,
            "padding": null,
            "grid_auto_rows": null,
            "grid_gap": null,
            "max_width": null,
            "order": null,
            "_view_module_version": "1.2.0",
            "grid_template_areas": null,
            "object_position": null,
            "object_fit": null,
            "grid_auto_columns": null,
            "margin": null,
            "display": null,
            "left": null
          }
        },
        "fdfe62dd96684f8284a56ad28d831913": {
          "model_module": "@jupyter-widgets/controls",
          "model_name": "DescriptionStyleModel",
          "state": {
            "_view_name": "StyleView",
            "_model_name": "DescriptionStyleModel",
            "description_width": "",
            "_view_module": "@jupyter-widgets/base",
            "_model_module_version": "1.5.0",
            "_view_count": null,
            "_view_module_version": "1.2.0",
            "_model_module": "@jupyter-widgets/controls"
          }
        },
        "0b8234e71be144449c70f020c310b627": {
          "model_module": "@jupyter-widgets/base",
          "model_name": "LayoutModel",
          "state": {
            "_view_name": "LayoutView",
            "grid_template_rows": null,
            "right": null,
            "justify_content": null,
            "_view_module": "@jupyter-widgets/base",
            "overflow": null,
            "_model_module_version": "1.2.0",
            "_view_count": null,
            "flex_flow": null,
            "width": null,
            "min_width": null,
            "border": null,
            "align_items": null,
            "bottom": null,
            "_model_module": "@jupyter-widgets/base",
            "top": null,
            "grid_column": null,
            "overflow_y": null,
            "overflow_x": null,
            "grid_auto_flow": null,
            "grid_area": null,
            "grid_template_columns": null,
            "flex": null,
            "_model_name": "LayoutModel",
            "justify_items": null,
            "grid_row": null,
            "max_height": null,
            "align_content": null,
            "visibility": null,
            "align_self": null,
            "height": null,
            "min_height": null,
            "padding": null,
            "grid_auto_rows": null,
            "grid_gap": null,
            "max_width": null,
            "order": null,
            "_view_module_version": "1.2.0",
            "grid_template_areas": null,
            "object_position": null,
            "object_fit": null,
            "grid_auto_columns": null,
            "margin": null,
            "display": null,
            "left": null
          }
        },
        "922eed84a56d4f5088154cc8a737eb62": {
          "model_module": "@jupyter-widgets/controls",
          "model_name": "HBoxModel",
          "state": {
            "_view_name": "HBoxView",
            "_dom_classes": [],
            "_model_name": "HBoxModel",
            "_view_module": "@jupyter-widgets/controls",
            "_model_module_version": "1.5.0",
            "_view_count": null,
            "_view_module_version": "1.5.0",
            "box_style": "",
            "layout": "IPY_MODEL_5567c34f889441099c7ffc07374611b4",
            "_model_module": "@jupyter-widgets/controls",
            "children": [
              "IPY_MODEL_64624c9249b9417bb63b351bcbc3be8c",
              "IPY_MODEL_2e5b1bffc6394e50ad2f5ab7f0b3add3"
            ]
          }
        },
        "5567c34f889441099c7ffc07374611b4": {
          "model_module": "@jupyter-widgets/base",
          "model_name": "LayoutModel",
          "state": {
            "_view_name": "LayoutView",
            "grid_template_rows": null,
            "right": null,
            "justify_content": null,
            "_view_module": "@jupyter-widgets/base",
            "overflow": null,
            "_model_module_version": "1.2.0",
            "_view_count": null,
            "flex_flow": null,
            "width": null,
            "min_width": null,
            "border": null,
            "align_items": null,
            "bottom": null,
            "_model_module": "@jupyter-widgets/base",
            "top": null,
            "grid_column": null,
            "overflow_y": null,
            "overflow_x": null,
            "grid_auto_flow": null,
            "grid_area": null,
            "grid_template_columns": null,
            "flex": null,
            "_model_name": "LayoutModel",
            "justify_items": null,
            "grid_row": null,
            "max_height": null,
            "align_content": null,
            "visibility": null,
            "align_self": null,
            "height": null,
            "min_height": null,
            "padding": null,
            "grid_auto_rows": null,
            "grid_gap": null,
            "max_width": null,
            "order": null,
            "_view_module_version": "1.2.0",
            "grid_template_areas": null,
            "object_position": null,
            "object_fit": null,
            "grid_auto_columns": null,
            "margin": null,
            "display": null,
            "left": null
          }
        },
        "64624c9249b9417bb63b351bcbc3be8c": {
          "model_module": "@jupyter-widgets/controls",
          "model_name": "FloatProgressModel",
          "state": {
            "_view_name": "ProgressView",
            "style": "IPY_MODEL_f18144cc2de748fd9ebbd097a204d918",
            "_dom_classes": [],
            "description": "",
            "_model_name": "FloatProgressModel",
            "bar_style": "success",
            "max": 4542,
            "_view_module": "@jupyter-widgets/controls",
            "_model_module_version": "1.5.0",
            "value": 4542,
            "_view_count": null,
            "_view_module_version": "1.5.0",
            "orientation": "horizontal",
            "min": 0,
            "description_tooltip": null,
            "_model_module": "@jupyter-widgets/controls",
            "layout": "IPY_MODEL_b78c12ffbce349a186991d5294185a3c"
          }
        },
        "2e5b1bffc6394e50ad2f5ab7f0b3add3": {
          "model_module": "@jupyter-widgets/controls",
          "model_name": "HTMLModel",
          "state": {
            "_view_name": "HTMLView",
            "style": "IPY_MODEL_ddf047297be4492083d21b77f0f02cf2",
            "_dom_classes": [],
            "description": "",
            "_model_name": "HTMLModel",
            "placeholder": "​",
            "_view_module": "@jupyter-widgets/controls",
            "_model_module_version": "1.5.0",
            "value": " 5120/? [01:15&lt;00:00, 68.14it/s]",
            "_view_count": null,
            "_view_module_version": "1.5.0",
            "description_tooltip": null,
            "_model_module": "@jupyter-widgets/controls",
            "layout": "IPY_MODEL_9302621728d644a08896ee2a8994e7aa"
          }
        },
        "f18144cc2de748fd9ebbd097a204d918": {
          "model_module": "@jupyter-widgets/controls",
          "model_name": "ProgressStyleModel",
          "state": {
            "_view_name": "StyleView",
            "_model_name": "ProgressStyleModel",
            "description_width": "initial",
            "_view_module": "@jupyter-widgets/base",
            "_model_module_version": "1.5.0",
            "_view_count": null,
            "_view_module_version": "1.2.0",
            "bar_color": null,
            "_model_module": "@jupyter-widgets/controls"
          }
        },
        "b78c12ffbce349a186991d5294185a3c": {
          "model_module": "@jupyter-widgets/base",
          "model_name": "LayoutModel",
          "state": {
            "_view_name": "LayoutView",
            "grid_template_rows": null,
            "right": null,
            "justify_content": null,
            "_view_module": "@jupyter-widgets/base",
            "overflow": null,
            "_model_module_version": "1.2.0",
            "_view_count": null,
            "flex_flow": null,
            "width": null,
            "min_width": null,
            "border": null,
            "align_items": null,
            "bottom": null,
            "_model_module": "@jupyter-widgets/base",
            "top": null,
            "grid_column": null,
            "overflow_y": null,
            "overflow_x": null,
            "grid_auto_flow": null,
            "grid_area": null,
            "grid_template_columns": null,
            "flex": null,
            "_model_name": "LayoutModel",
            "justify_items": null,
            "grid_row": null,
            "max_height": null,
            "align_content": null,
            "visibility": null,
            "align_self": null,
            "height": null,
            "min_height": null,
            "padding": null,
            "grid_auto_rows": null,
            "grid_gap": null,
            "max_width": null,
            "order": null,
            "_view_module_version": "1.2.0",
            "grid_template_areas": null,
            "object_position": null,
            "object_fit": null,
            "grid_auto_columns": null,
            "margin": null,
            "display": null,
            "left": null
          }
        },
        "ddf047297be4492083d21b77f0f02cf2": {
          "model_module": "@jupyter-widgets/controls",
          "model_name": "DescriptionStyleModel",
          "state": {
            "_view_name": "StyleView",
            "_model_name": "DescriptionStyleModel",
            "description_width": "",
            "_view_module": "@jupyter-widgets/base",
            "_model_module_version": "1.5.0",
            "_view_count": null,
            "_view_module_version": "1.2.0",
            "_model_module": "@jupyter-widgets/controls"
          }
        },
        "9302621728d644a08896ee2a8994e7aa": {
          "model_module": "@jupyter-widgets/base",
          "model_name": "LayoutModel",
          "state": {
            "_view_name": "LayoutView",
            "grid_template_rows": null,
            "right": null,
            "justify_content": null,
            "_view_module": "@jupyter-widgets/base",
            "overflow": null,
            "_model_module_version": "1.2.0",
            "_view_count": null,
            "flex_flow": null,
            "width": null,
            "min_width": null,
            "border": null,
            "align_items": null,
            "bottom": null,
            "_model_module": "@jupyter-widgets/base",
            "top": null,
            "grid_column": null,
            "overflow_y": null,
            "overflow_x": null,
            "grid_auto_flow": null,
            "grid_area": null,
            "grid_template_columns": null,
            "flex": null,
            "_model_name": "LayoutModel",
            "justify_items": null,
            "grid_row": null,
            "max_height": null,
            "align_content": null,
            "visibility": null,
            "align_self": null,
            "height": null,
            "min_height": null,
            "padding": null,
            "grid_auto_rows": null,
            "grid_gap": null,
            "max_width": null,
            "order": null,
            "_view_module_version": "1.2.0",
            "grid_template_areas": null,
            "object_position": null,
            "object_fit": null,
            "grid_auto_columns": null,
            "margin": null,
            "display": null,
            "left": null
          }
        },
        "15d9ba226812449b8bcf0be30233003d": {
          "model_module": "@jupyter-widgets/controls",
          "model_name": "HBoxModel",
          "state": {
            "_view_name": "HBoxView",
            "_dom_classes": [],
            "_model_name": "HBoxModel",
            "_view_module": "@jupyter-widgets/controls",
            "_model_module_version": "1.5.0",
            "_view_count": null,
            "_view_module_version": "1.5.0",
            "box_style": "",
            "layout": "IPY_MODEL_f410effa14a34305b2c9cb2658a4c434",
            "_model_module": "@jupyter-widgets/controls",
            "children": [
              "IPY_MODEL_3e9295d78b034fe59bf47c8709002441",
              "IPY_MODEL_fd10d8c9e7fb4b209770d2b7cf73dcea"
            ]
          }
        },
        "f410effa14a34305b2c9cb2658a4c434": {
          "model_module": "@jupyter-widgets/base",
          "model_name": "LayoutModel",
          "state": {
            "_view_name": "LayoutView",
            "grid_template_rows": null,
            "right": null,
            "justify_content": null,
            "_view_module": "@jupyter-widgets/base",
            "overflow": null,
            "_model_module_version": "1.2.0",
            "_view_count": null,
            "flex_flow": null,
            "width": null,
            "min_width": null,
            "border": null,
            "align_items": null,
            "bottom": null,
            "_model_module": "@jupyter-widgets/base",
            "top": null,
            "grid_column": null,
            "overflow_y": null,
            "overflow_x": null,
            "grid_auto_flow": null,
            "grid_area": null,
            "grid_template_columns": null,
            "flex": null,
            "_model_name": "LayoutModel",
            "justify_items": null,
            "grid_row": null,
            "max_height": null,
            "align_content": null,
            "visibility": null,
            "align_self": null,
            "height": null,
            "min_height": null,
            "padding": null,
            "grid_auto_rows": null,
            "grid_gap": null,
            "max_width": null,
            "order": null,
            "_view_module_version": "1.2.0",
            "grid_template_areas": null,
            "object_position": null,
            "object_fit": null,
            "grid_auto_columns": null,
            "margin": null,
            "display": null,
            "left": null
          }
        },
        "3e9295d78b034fe59bf47c8709002441": {
          "model_module": "@jupyter-widgets/controls",
          "model_name": "FloatProgressModel",
          "state": {
            "_view_name": "ProgressView",
            "style": "IPY_MODEL_4e76222c15d54f0cb246987caf615257",
            "_dom_classes": [],
            "description": "",
            "_model_name": "FloatProgressModel",
            "bar_style": "success",
            "max": 9912422,
            "_view_module": "@jupyter-widgets/controls",
            "_model_module_version": "1.5.0",
            "value": 9912422,
            "_view_count": null,
            "_view_module_version": "1.5.0",
            "orientation": "horizontal",
            "min": 0,
            "description_tooltip": null,
            "_model_module": "@jupyter-widgets/controls",
            "layout": "IPY_MODEL_9f6b2a4925ea4c6385e77c4d8417bdd4"
          }
        },
        "fd10d8c9e7fb4b209770d2b7cf73dcea": {
          "model_module": "@jupyter-widgets/controls",
          "model_name": "HTMLModel",
          "state": {
            "_view_name": "HTMLView",
            "style": "IPY_MODEL_5c52dfa401ea416dbf955daa89b300ed",
            "_dom_classes": [],
            "description": "",
            "_model_name": "HTMLModel",
            "placeholder": "​",
            "_view_module": "@jupyter-widgets/controls",
            "_model_module_version": "1.5.0",
            "value": " 9913344/? [00:04&lt;00:00, 2401072.74it/s]",
            "_view_count": null,
            "_view_module_version": "1.5.0",
            "description_tooltip": null,
            "_model_module": "@jupyter-widgets/controls",
            "layout": "IPY_MODEL_4cdd7a3ec4f74db5bcae3756c4c2fa90"
          }
        },
        "4e76222c15d54f0cb246987caf615257": {
          "model_module": "@jupyter-widgets/controls",
          "model_name": "ProgressStyleModel",
          "state": {
            "_view_name": "StyleView",
            "_model_name": "ProgressStyleModel",
            "description_width": "initial",
            "_view_module": "@jupyter-widgets/base",
            "_model_module_version": "1.5.0",
            "_view_count": null,
            "_view_module_version": "1.2.0",
            "bar_color": null,
            "_model_module": "@jupyter-widgets/controls"
          }
        },
        "9f6b2a4925ea4c6385e77c4d8417bdd4": {
          "model_module": "@jupyter-widgets/base",
          "model_name": "LayoutModel",
          "state": {
            "_view_name": "LayoutView",
            "grid_template_rows": null,
            "right": null,
            "justify_content": null,
            "_view_module": "@jupyter-widgets/base",
            "overflow": null,
            "_model_module_version": "1.2.0",
            "_view_count": null,
            "flex_flow": null,
            "width": null,
            "min_width": null,
            "border": null,
            "align_items": null,
            "bottom": null,
            "_model_module": "@jupyter-widgets/base",
            "top": null,
            "grid_column": null,
            "overflow_y": null,
            "overflow_x": null,
            "grid_auto_flow": null,
            "grid_area": null,
            "grid_template_columns": null,
            "flex": null,
            "_model_name": "LayoutModel",
            "justify_items": null,
            "grid_row": null,
            "max_height": null,
            "align_content": null,
            "visibility": null,
            "align_self": null,
            "height": null,
            "min_height": null,
            "padding": null,
            "grid_auto_rows": null,
            "grid_gap": null,
            "max_width": null,
            "order": null,
            "_view_module_version": "1.2.0",
            "grid_template_areas": null,
            "object_position": null,
            "object_fit": null,
            "grid_auto_columns": null,
            "margin": null,
            "display": null,
            "left": null
          }
        },
        "5c52dfa401ea416dbf955daa89b300ed": {
          "model_module": "@jupyter-widgets/controls",
          "model_name": "DescriptionStyleModel",
          "state": {
            "_view_name": "StyleView",
            "_model_name": "DescriptionStyleModel",
            "description_width": "",
            "_view_module": "@jupyter-widgets/base",
            "_model_module_version": "1.5.0",
            "_view_count": null,
            "_view_module_version": "1.2.0",
            "_model_module": "@jupyter-widgets/controls"
          }
        },
        "4cdd7a3ec4f74db5bcae3756c4c2fa90": {
          "model_module": "@jupyter-widgets/base",
          "model_name": "LayoutModel",
          "state": {
            "_view_name": "LayoutView",
            "grid_template_rows": null,
            "right": null,
            "justify_content": null,
            "_view_module": "@jupyter-widgets/base",
            "overflow": null,
            "_model_module_version": "1.2.0",
            "_view_count": null,
            "flex_flow": null,
            "width": null,
            "min_width": null,
            "border": null,
            "align_items": null,
            "bottom": null,
            "_model_module": "@jupyter-widgets/base",
            "top": null,
            "grid_column": null,
            "overflow_y": null,
            "overflow_x": null,
            "grid_auto_flow": null,
            "grid_area": null,
            "grid_template_columns": null,
            "flex": null,
            "_model_name": "LayoutModel",
            "justify_items": null,
            "grid_row": null,
            "max_height": null,
            "align_content": null,
            "visibility": null,
            "align_self": null,
            "height": null,
            "min_height": null,
            "padding": null,
            "grid_auto_rows": null,
            "grid_gap": null,
            "max_width": null,
            "order": null,
            "_view_module_version": "1.2.0",
            "grid_template_areas": null,
            "object_position": null,
            "object_fit": null,
            "grid_auto_columns": null,
            "margin": null,
            "display": null,
            "left": null
          }
        },
        "67ae30090705490d9a0f3d6ed4be0fe7": {
          "model_module": "@jupyter-widgets/controls",
          "model_name": "HBoxModel",
          "state": {
            "_view_name": "HBoxView",
            "_dom_classes": [],
            "_model_name": "HBoxModel",
            "_view_module": "@jupyter-widgets/controls",
            "_model_module_version": "1.5.0",
            "_view_count": null,
            "_view_module_version": "1.5.0",
            "box_style": "",
            "layout": "IPY_MODEL_18b73846d263462fbea670488239ae11",
            "_model_module": "@jupyter-widgets/controls",
            "children": [
              "IPY_MODEL_df4c83c080994ebb91c97d1c290c07a6",
              "IPY_MODEL_08493c8f9139463a88d201e12efb9ccc"
            ]
          }
        },
        "18b73846d263462fbea670488239ae11": {
          "model_module": "@jupyter-widgets/base",
          "model_name": "LayoutModel",
          "state": {
            "_view_name": "LayoutView",
            "grid_template_rows": null,
            "right": null,
            "justify_content": null,
            "_view_module": "@jupyter-widgets/base",
            "overflow": null,
            "_model_module_version": "1.2.0",
            "_view_count": null,
            "flex_flow": null,
            "width": null,
            "min_width": null,
            "border": null,
            "align_items": null,
            "bottom": null,
            "_model_module": "@jupyter-widgets/base",
            "top": null,
            "grid_column": null,
            "overflow_y": null,
            "overflow_x": null,
            "grid_auto_flow": null,
            "grid_area": null,
            "grid_template_columns": null,
            "flex": null,
            "_model_name": "LayoutModel",
            "justify_items": null,
            "grid_row": null,
            "max_height": null,
            "align_content": null,
            "visibility": null,
            "align_self": null,
            "height": null,
            "min_height": null,
            "padding": null,
            "grid_auto_rows": null,
            "grid_gap": null,
            "max_width": null,
            "order": null,
            "_view_module_version": "1.2.0",
            "grid_template_areas": null,
            "object_position": null,
            "object_fit": null,
            "grid_auto_columns": null,
            "margin": null,
            "display": null,
            "left": null
          }
        },
        "df4c83c080994ebb91c97d1c290c07a6": {
          "model_module": "@jupyter-widgets/controls",
          "model_name": "FloatProgressModel",
          "state": {
            "_view_name": "ProgressView",
            "style": "IPY_MODEL_e25b6bfe44394ab3afb338bf4150481b",
            "_dom_classes": [],
            "description": "",
            "_model_name": "FloatProgressModel",
            "bar_style": "success",
            "max": 28881,
            "_view_module": "@jupyter-widgets/controls",
            "_model_module_version": "1.5.0",
            "value": 28881,
            "_view_count": null,
            "_view_module_version": "1.5.0",
            "orientation": "horizontal",
            "min": 0,
            "description_tooltip": null,
            "_model_module": "@jupyter-widgets/controls",
            "layout": "IPY_MODEL_908733fff51b44598a059098506305d7"
          }
        },
        "08493c8f9139463a88d201e12efb9ccc": {
          "model_module": "@jupyter-widgets/controls",
          "model_name": "HTMLModel",
          "state": {
            "_view_name": "HTMLView",
            "style": "IPY_MODEL_edf5ff2966964dfa96d8c73cfc445211",
            "_dom_classes": [],
            "description": "",
            "_model_name": "HTMLModel",
            "placeholder": "​",
            "_view_module": "@jupyter-widgets/controls",
            "_model_module_version": "1.5.0",
            "value": " 29696/? [00:02&lt;00:00, 11135.69it/s]",
            "_view_count": null,
            "_view_module_version": "1.5.0",
            "description_tooltip": null,
            "_model_module": "@jupyter-widgets/controls",
            "layout": "IPY_MODEL_c6cc1af955a949048f44460ecc960b8f"
          }
        },
        "e25b6bfe44394ab3afb338bf4150481b": {
          "model_module": "@jupyter-widgets/controls",
          "model_name": "ProgressStyleModel",
          "state": {
            "_view_name": "StyleView",
            "_model_name": "ProgressStyleModel",
            "description_width": "initial",
            "_view_module": "@jupyter-widgets/base",
            "_model_module_version": "1.5.0",
            "_view_count": null,
            "_view_module_version": "1.2.0",
            "bar_color": null,
            "_model_module": "@jupyter-widgets/controls"
          }
        },
        "908733fff51b44598a059098506305d7": {
          "model_module": "@jupyter-widgets/base",
          "model_name": "LayoutModel",
          "state": {
            "_view_name": "LayoutView",
            "grid_template_rows": null,
            "right": null,
            "justify_content": null,
            "_view_module": "@jupyter-widgets/base",
            "overflow": null,
            "_model_module_version": "1.2.0",
            "_view_count": null,
            "flex_flow": null,
            "width": null,
            "min_width": null,
            "border": null,
            "align_items": null,
            "bottom": null,
            "_model_module": "@jupyter-widgets/base",
            "top": null,
            "grid_column": null,
            "overflow_y": null,
            "overflow_x": null,
            "grid_auto_flow": null,
            "grid_area": null,
            "grid_template_columns": null,
            "flex": null,
            "_model_name": "LayoutModel",
            "justify_items": null,
            "grid_row": null,
            "max_height": null,
            "align_content": null,
            "visibility": null,
            "align_self": null,
            "height": null,
            "min_height": null,
            "padding": null,
            "grid_auto_rows": null,
            "grid_gap": null,
            "max_width": null,
            "order": null,
            "_view_module_version": "1.2.0",
            "grid_template_areas": null,
            "object_position": null,
            "object_fit": null,
            "grid_auto_columns": null,
            "margin": null,
            "display": null,
            "left": null
          }
        },
        "edf5ff2966964dfa96d8c73cfc445211": {
          "model_module": "@jupyter-widgets/controls",
          "model_name": "DescriptionStyleModel",
          "state": {
            "_view_name": "StyleView",
            "_model_name": "DescriptionStyleModel",
            "description_width": "",
            "_view_module": "@jupyter-widgets/base",
            "_model_module_version": "1.5.0",
            "_view_count": null,
            "_view_module_version": "1.2.0",
            "_model_module": "@jupyter-widgets/controls"
          }
        },
        "c6cc1af955a949048f44460ecc960b8f": {
          "model_module": "@jupyter-widgets/base",
          "model_name": "LayoutModel",
          "state": {
            "_view_name": "LayoutView",
            "grid_template_rows": null,
            "right": null,
            "justify_content": null,
            "_view_module": "@jupyter-widgets/base",
            "overflow": null,
            "_model_module_version": "1.2.0",
            "_view_count": null,
            "flex_flow": null,
            "width": null,
            "min_width": null,
            "border": null,
            "align_items": null,
            "bottom": null,
            "_model_module": "@jupyter-widgets/base",
            "top": null,
            "grid_column": null,
            "overflow_y": null,
            "overflow_x": null,
            "grid_auto_flow": null,
            "grid_area": null,
            "grid_template_columns": null,
            "flex": null,
            "_model_name": "LayoutModel",
            "justify_items": null,
            "grid_row": null,
            "max_height": null,
            "align_content": null,
            "visibility": null,
            "align_self": null,
            "height": null,
            "min_height": null,
            "padding": null,
            "grid_auto_rows": null,
            "grid_gap": null,
            "max_width": null,
            "order": null,
            "_view_module_version": "1.2.0",
            "grid_template_areas": null,
            "object_position": null,
            "object_fit": null,
            "grid_auto_columns": null,
            "margin": null,
            "display": null,
            "left": null
          }
        },
        "f5e22e6ace1c45fb8d8e90cca15d9377": {
          "model_module": "@jupyter-widgets/controls",
          "model_name": "HBoxModel",
          "state": {
            "_view_name": "HBoxView",
            "_dom_classes": [],
            "_model_name": "HBoxModel",
            "_view_module": "@jupyter-widgets/controls",
            "_model_module_version": "1.5.0",
            "_view_count": null,
            "_view_module_version": "1.5.0",
            "box_style": "",
            "layout": "IPY_MODEL_cba8d192e6ba42dcaa24983712cecc2d",
            "_model_module": "@jupyter-widgets/controls",
            "children": [
              "IPY_MODEL_b43179bf216c465aa3e80d7a24f0be1b",
              "IPY_MODEL_c538d737f00845e4a62b16b0d405f5b6"
            ]
          }
        },
        "cba8d192e6ba42dcaa24983712cecc2d": {
          "model_module": "@jupyter-widgets/base",
          "model_name": "LayoutModel",
          "state": {
            "_view_name": "LayoutView",
            "grid_template_rows": null,
            "right": null,
            "justify_content": null,
            "_view_module": "@jupyter-widgets/base",
            "overflow": null,
            "_model_module_version": "1.2.0",
            "_view_count": null,
            "flex_flow": null,
            "width": null,
            "min_width": null,
            "border": null,
            "align_items": null,
            "bottom": null,
            "_model_module": "@jupyter-widgets/base",
            "top": null,
            "grid_column": null,
            "overflow_y": null,
            "overflow_x": null,
            "grid_auto_flow": null,
            "grid_area": null,
            "grid_template_columns": null,
            "flex": null,
            "_model_name": "LayoutModel",
            "justify_items": null,
            "grid_row": null,
            "max_height": null,
            "align_content": null,
            "visibility": null,
            "align_self": null,
            "height": null,
            "min_height": null,
            "padding": null,
            "grid_auto_rows": null,
            "grid_gap": null,
            "max_width": null,
            "order": null,
            "_view_module_version": "1.2.0",
            "grid_template_areas": null,
            "object_position": null,
            "object_fit": null,
            "grid_auto_columns": null,
            "margin": null,
            "display": null,
            "left": null
          }
        },
        "b43179bf216c465aa3e80d7a24f0be1b": {
          "model_module": "@jupyter-widgets/controls",
          "model_name": "FloatProgressModel",
          "state": {
            "_view_name": "ProgressView",
            "style": "IPY_MODEL_9d4f9cd52c4747eab15a7d516c136774",
            "_dom_classes": [],
            "description": "",
            "_model_name": "FloatProgressModel",
            "bar_style": "success",
            "max": 1648877,
            "_view_module": "@jupyter-widgets/controls",
            "_model_module_version": "1.5.0",
            "value": 1648877,
            "_view_count": null,
            "_view_module_version": "1.5.0",
            "orientation": "horizontal",
            "min": 0,
            "description_tooltip": null,
            "_model_module": "@jupyter-widgets/controls",
            "layout": "IPY_MODEL_03b51009690b4e258c8d11ea5d15962f"
          }
        },
        "c538d737f00845e4a62b16b0d405f5b6": {
          "model_module": "@jupyter-widgets/controls",
          "model_name": "HTMLModel",
          "state": {
            "_view_name": "HTMLView",
            "style": "IPY_MODEL_2c97c7fb3b664c6f9de8d529d6a692fe",
            "_dom_classes": [],
            "description": "",
            "_model_name": "HTMLModel",
            "placeholder": "​",
            "_view_module": "@jupyter-widgets/controls",
            "_model_module_version": "1.5.0",
            "value": " 1649664/? [00:01&lt;00:00, 1150573.49it/s]",
            "_view_count": null,
            "_view_module_version": "1.5.0",
            "description_tooltip": null,
            "_model_module": "@jupyter-widgets/controls",
            "layout": "IPY_MODEL_3ccf493eaa0248209fc02ef594e516ff"
          }
        },
        "9d4f9cd52c4747eab15a7d516c136774": {
          "model_module": "@jupyter-widgets/controls",
          "model_name": "ProgressStyleModel",
          "state": {
            "_view_name": "StyleView",
            "_model_name": "ProgressStyleModel",
            "description_width": "initial",
            "_view_module": "@jupyter-widgets/base",
            "_model_module_version": "1.5.0",
            "_view_count": null,
            "_view_module_version": "1.2.0",
            "bar_color": null,
            "_model_module": "@jupyter-widgets/controls"
          }
        },
        "03b51009690b4e258c8d11ea5d15962f": {
          "model_module": "@jupyter-widgets/base",
          "model_name": "LayoutModel",
          "state": {
            "_view_name": "LayoutView",
            "grid_template_rows": null,
            "right": null,
            "justify_content": null,
            "_view_module": "@jupyter-widgets/base",
            "overflow": null,
            "_model_module_version": "1.2.0",
            "_view_count": null,
            "flex_flow": null,
            "width": null,
            "min_width": null,
            "border": null,
            "align_items": null,
            "bottom": null,
            "_model_module": "@jupyter-widgets/base",
            "top": null,
            "grid_column": null,
            "overflow_y": null,
            "overflow_x": null,
            "grid_auto_flow": null,
            "grid_area": null,
            "grid_template_columns": null,
            "flex": null,
            "_model_name": "LayoutModel",
            "justify_items": null,
            "grid_row": null,
            "max_height": null,
            "align_content": null,
            "visibility": null,
            "align_self": null,
            "height": null,
            "min_height": null,
            "padding": null,
            "grid_auto_rows": null,
            "grid_gap": null,
            "max_width": null,
            "order": null,
            "_view_module_version": "1.2.0",
            "grid_template_areas": null,
            "object_position": null,
            "object_fit": null,
            "grid_auto_columns": null,
            "margin": null,
            "display": null,
            "left": null
          }
        },
        "2c97c7fb3b664c6f9de8d529d6a692fe": {
          "model_module": "@jupyter-widgets/controls",
          "model_name": "DescriptionStyleModel",
          "state": {
            "_view_name": "StyleView",
            "_model_name": "DescriptionStyleModel",
            "description_width": "",
            "_view_module": "@jupyter-widgets/base",
            "_model_module_version": "1.5.0",
            "_view_count": null,
            "_view_module_version": "1.2.0",
            "_model_module": "@jupyter-widgets/controls"
          }
        },
        "3ccf493eaa0248209fc02ef594e516ff": {
          "model_module": "@jupyter-widgets/base",
          "model_name": "LayoutModel",
          "state": {
            "_view_name": "LayoutView",
            "grid_template_rows": null,
            "right": null,
            "justify_content": null,
            "_view_module": "@jupyter-widgets/base",
            "overflow": null,
            "_model_module_version": "1.2.0",
            "_view_count": null,
            "flex_flow": null,
            "width": null,
            "min_width": null,
            "border": null,
            "align_items": null,
            "bottom": null,
            "_model_module": "@jupyter-widgets/base",
            "top": null,
            "grid_column": null,
            "overflow_y": null,
            "overflow_x": null,
            "grid_auto_flow": null,
            "grid_area": null,
            "grid_template_columns": null,
            "flex": null,
            "_model_name": "LayoutModel",
            "justify_items": null,
            "grid_row": null,
            "max_height": null,
            "align_content": null,
            "visibility": null,
            "align_self": null,
            "height": null,
            "min_height": null,
            "padding": null,
            "grid_auto_rows": null,
            "grid_gap": null,
            "max_width": null,
            "order": null,
            "_view_module_version": "1.2.0",
            "grid_template_areas": null,
            "object_position": null,
            "object_fit": null,
            "grid_auto_columns": null,
            "margin": null,
            "display": null,
            "left": null
          }
        },
        "bc37a937a4ed443184f922ab97351916": {
          "model_module": "@jupyter-widgets/controls",
          "model_name": "HBoxModel",
          "state": {
            "_view_name": "HBoxView",
            "_dom_classes": [],
            "_model_name": "HBoxModel",
            "_view_module": "@jupyter-widgets/controls",
            "_model_module_version": "1.5.0",
            "_view_count": null,
            "_view_module_version": "1.5.0",
            "box_style": "",
            "layout": "IPY_MODEL_88a7cb15807c453bba8340facf4f5888",
            "_model_module": "@jupyter-widgets/controls",
            "children": [
              "IPY_MODEL_8ff87b73abda4d458b3648d684835348",
              "IPY_MODEL_94e962a1bd574261b84a70f06b6acb20"
            ]
          }
        },
        "88a7cb15807c453bba8340facf4f5888": {
          "model_module": "@jupyter-widgets/base",
          "model_name": "LayoutModel",
          "state": {
            "_view_name": "LayoutView",
            "grid_template_rows": null,
            "right": null,
            "justify_content": null,
            "_view_module": "@jupyter-widgets/base",
            "overflow": null,
            "_model_module_version": "1.2.0",
            "_view_count": null,
            "flex_flow": null,
            "width": null,
            "min_width": null,
            "border": null,
            "align_items": null,
            "bottom": null,
            "_model_module": "@jupyter-widgets/base",
            "top": null,
            "grid_column": null,
            "overflow_y": null,
            "overflow_x": null,
            "grid_auto_flow": null,
            "grid_area": null,
            "grid_template_columns": null,
            "flex": null,
            "_model_name": "LayoutModel",
            "justify_items": null,
            "grid_row": null,
            "max_height": null,
            "align_content": null,
            "visibility": null,
            "align_self": null,
            "height": null,
            "min_height": null,
            "padding": null,
            "grid_auto_rows": null,
            "grid_gap": null,
            "max_width": null,
            "order": null,
            "_view_module_version": "1.2.0",
            "grid_template_areas": null,
            "object_position": null,
            "object_fit": null,
            "grid_auto_columns": null,
            "margin": null,
            "display": null,
            "left": null
          }
        },
        "8ff87b73abda4d458b3648d684835348": {
          "model_module": "@jupyter-widgets/controls",
          "model_name": "FloatProgressModel",
          "state": {
            "_view_name": "ProgressView",
            "style": "IPY_MODEL_6603568dbdd84d188b273bf743fd9549",
            "_dom_classes": [],
            "description": "",
            "_model_name": "FloatProgressModel",
            "bar_style": "success",
            "max": 4542,
            "_view_module": "@jupyter-widgets/controls",
            "_model_module_version": "1.5.0",
            "value": 4542,
            "_view_count": null,
            "_view_module_version": "1.5.0",
            "orientation": "horizontal",
            "min": 0,
            "description_tooltip": null,
            "_model_module": "@jupyter-widgets/controls",
            "layout": "IPY_MODEL_893db255356242e6b2e45f3eb0e74de0"
          }
        },
        "94e962a1bd574261b84a70f06b6acb20": {
          "model_module": "@jupyter-widgets/controls",
          "model_name": "HTMLModel",
          "state": {
            "_view_name": "HTMLView",
            "style": "IPY_MODEL_33467da4a8594adda105e525ebea649a",
            "_dom_classes": [],
            "description": "",
            "_model_name": "HTMLModel",
            "placeholder": "​",
            "_view_module": "@jupyter-widgets/controls",
            "_model_module_version": "1.5.0",
            "value": " 5120/? [00:00&lt;00:00, 27144.58it/s]",
            "_view_count": null,
            "_view_module_version": "1.5.0",
            "description_tooltip": null,
            "_model_module": "@jupyter-widgets/controls",
            "layout": "IPY_MODEL_33811cc2d2444f49a899541a58cacf2d"
          }
        },
        "6603568dbdd84d188b273bf743fd9549": {
          "model_module": "@jupyter-widgets/controls",
          "model_name": "ProgressStyleModel",
          "state": {
            "_view_name": "StyleView",
            "_model_name": "ProgressStyleModel",
            "description_width": "initial",
            "_view_module": "@jupyter-widgets/base",
            "_model_module_version": "1.5.0",
            "_view_count": null,
            "_view_module_version": "1.2.0",
            "bar_color": null,
            "_model_module": "@jupyter-widgets/controls"
          }
        },
        "893db255356242e6b2e45f3eb0e74de0": {
          "model_module": "@jupyter-widgets/base",
          "model_name": "LayoutModel",
          "state": {
            "_view_name": "LayoutView",
            "grid_template_rows": null,
            "right": null,
            "justify_content": null,
            "_view_module": "@jupyter-widgets/base",
            "overflow": null,
            "_model_module_version": "1.2.0",
            "_view_count": null,
            "flex_flow": null,
            "width": null,
            "min_width": null,
            "border": null,
            "align_items": null,
            "bottom": null,
            "_model_module": "@jupyter-widgets/base",
            "top": null,
            "grid_column": null,
            "overflow_y": null,
            "overflow_x": null,
            "grid_auto_flow": null,
            "grid_area": null,
            "grid_template_columns": null,
            "flex": null,
            "_model_name": "LayoutModel",
            "justify_items": null,
            "grid_row": null,
            "max_height": null,
            "align_content": null,
            "visibility": null,
            "align_self": null,
            "height": null,
            "min_height": null,
            "padding": null,
            "grid_auto_rows": null,
            "grid_gap": null,
            "max_width": null,
            "order": null,
            "_view_module_version": "1.2.0",
            "grid_template_areas": null,
            "object_position": null,
            "object_fit": null,
            "grid_auto_columns": null,
            "margin": null,
            "display": null,
            "left": null
          }
        },
        "33467da4a8594adda105e525ebea649a": {
          "model_module": "@jupyter-widgets/controls",
          "model_name": "DescriptionStyleModel",
          "state": {
            "_view_name": "StyleView",
            "_model_name": "DescriptionStyleModel",
            "description_width": "",
            "_view_module": "@jupyter-widgets/base",
            "_model_module_version": "1.5.0",
            "_view_count": null,
            "_view_module_version": "1.2.0",
            "_model_module": "@jupyter-widgets/controls"
          }
        },
        "33811cc2d2444f49a899541a58cacf2d": {
          "model_module": "@jupyter-widgets/base",
          "model_name": "LayoutModel",
          "state": {
            "_view_name": "LayoutView",
            "grid_template_rows": null,
            "right": null,
            "justify_content": null,
            "_view_module": "@jupyter-widgets/base",
            "overflow": null,
            "_model_module_version": "1.2.0",
            "_view_count": null,
            "flex_flow": null,
            "width": null,
            "min_width": null,
            "border": null,
            "align_items": null,
            "bottom": null,
            "_model_module": "@jupyter-widgets/base",
            "top": null,
            "grid_column": null,
            "overflow_y": null,
            "overflow_x": null,
            "grid_auto_flow": null,
            "grid_area": null,
            "grid_template_columns": null,
            "flex": null,
            "_model_name": "LayoutModel",
            "justify_items": null,
            "grid_row": null,
            "max_height": null,
            "align_content": null,
            "visibility": null,
            "align_self": null,
            "height": null,
            "min_height": null,
            "padding": null,
            "grid_auto_rows": null,
            "grid_gap": null,
            "max_width": null,
            "order": null,
            "_view_module_version": "1.2.0",
            "grid_template_areas": null,
            "object_position": null,
            "object_fit": null,
            "grid_auto_columns": null,
            "margin": null,
            "display": null,
            "left": null
          }
        }
      }
    }
  },
  "cells": [
    {
      "cell_type": "markdown",
      "metadata": {
        "id": "view-in-github",
        "colab_type": "text"
      },
      "source": [
        "<a href=\"https://colab.research.google.com/github/vokashlob/OTUS/blob/main/OTUS_%22denoising_ae_ipynb%22.ipynb\" target=\"_parent\"><img src=\"https://colab.research.google.com/assets/colab-badge.svg\" alt=\"Open In Colab\"/></a>"
      ]
    },
    {
      "cell_type": "markdown",
      "metadata": {
        "id": "8n12pJbIZI4H"
      },
      "source": [
        "1. Обучить многослойный автокодировщик:\n",
        "* а. отрисовать классы в латентном представлении автокодировщика с двумерным латентным слоем \n",
        "* б. сделать tSNE над 32-мерным латентным слоем, отрисовать представление\n",
        "\n",
        "2. Обучить шумный автокодировщик: \n",
        "* a. Добавить ко входным данным нормальный шум\n",
        "* б. Сделать отражение части изображения\n",
        "* в. Отрисовать карты активаций нейронов первого слоя"
      ]
    },
    {
      "cell_type": "markdown",
      "metadata": {
        "id": "4WKfa7i_oK74"
      },
      "source": [
        "# Utils - обязательно запускаем вначале. Дальнейшие блоки первого уровня автономны"
      ]
    },
    {
      "cell_type": "code",
      "metadata": {
        "id": "aRbJt2VUoKKG"
      },
      "source": [
        "import torch\n",
        "from torch.utils.data import DataLoader\n",
        "from torch.utils.data.sampler import SubsetRandomSampler\n",
        "from torchvision import datasets, transforms\n",
        "import matplotlib\n",
        "import matplotlib.pyplot as plt\n",
        "import numpy as np\n",
        "\n",
        "%matplotlib inline\n",
        "\n",
        "mnist_transform = transforms.Compose([\n",
        "    transforms.ToTensor(),\n",
        "    transforms.Normalize((0.1307,), (0.3081,)),\n",
        "])\n",
        "\n",
        "\n",
        "def mnist(batch_size=50, valid=0, shuffle=True, transform=mnist_transform, path='./MNIST_data'):\n",
        "    test_data = datasets.MNIST(path, train=False, download=True, transform=transform)\n",
        "    test_loader = DataLoader(test_data, batch_size=batch_size, shuffle=False)\n",
        "\n",
        "    train_data = datasets.MNIST(path, train=True, download=True, transform=transform)\n",
        "    if valid > 0:\n",
        "        num_train = len(train_data)\n",
        "        indices = list(range(num_train))\n",
        "        split = num_train - valid\n",
        "        np.random.shuffle(indices)\n",
        "\n",
        "        train_idx, valid_idx = indices[:split], indices[split:]\n",
        "        train_sampler = SubsetRandomSampler(train_idx)\n",
        "        valid_sampler = SubsetRandomSampler(valid_idx)\n",
        "\n",
        "        train_loader = DataLoader(train_data, batch_size=batch_size, sampler=train_sampler)\n",
        "        valid_loader = DataLoader(train_data, batch_size=batch_size, sampler=valid_sampler)\n",
        "\n",
        "        return train_loader, valid_loader, test_loader\n",
        "    else:\n",
        "        train_loader = DataLoader(train_data, batch_size=batch_size, shuffle=shuffle)\n",
        "        return train_loader, test_loader\n",
        "\n",
        "\n",
        "def plot_mnist(images, shape):\n",
        "    fig = plt.figure(figsize=shape[::-1], dpi=80);\n",
        "    for j in range(1, len(images) + 1):\n",
        "        ax = fig.add_subplot(shape[0], shape[1], j)\n",
        "        ax.matshow(images[j - 1, 0, :, :], cmap=matplotlib.cm.binary)\n",
        "        plt.xticks(np.array([]))\n",
        "        plt.yticks(np.array([]))\n",
        "    plt.show()\n",
        "\n",
        "\n",
        "def plot_graphs(log, tpe='loss'):\n",
        "    keys = log.keys()\n",
        "    logs = {k: [z for z in zip(*log[k])] for k in keys}\n",
        "    epochs = {k: range(len(log[k])) for k in keys}\n",
        "\n",
        "    if tpe == 'loss':\n",
        "        handlers, = zip(*[plt.plot(epochs[k], logs[k][0], label=k) for k in keys])\n",
        "        plt.title('errors')\n",
        "        plt.xlabel('epoch')\n",
        "        plt.ylabel('error')\n",
        "        plt.legend(handles=handlers)\n",
        "        plt.show()\n",
        "    elif tpe == 'accuracy':\n",
        "        handlers, = zip(*[plt.plot(epochs[k], logs[k][1], label=k) for k in log.keys()])\n",
        "        plt.title('accuracy')\n",
        "        plt.xlabel('epoch')\n",
        "        plt.ylabel('accuracy')\n",
        "        plt.legend(handles=handlers)\n",
        "        plt.show()"
      ],
      "execution_count": 2,
      "outputs": []
    },
    {
      "cell_type": "markdown",
      "metadata": {
        "id": "zsZh6YlLoOyv"
      },
      "source": [
        "# Многослойный линейный автоэнкодер"
      ]
    },
    {
      "cell_type": "markdown",
      "metadata": {
        "id": "wA5DePfM5Pvd"
      },
      "source": [
        "## Import"
      ]
    },
    {
      "cell_type": "code",
      "metadata": {
        "id": "hZKF7lS1lcML"
      },
      "source": [
        "import torch\n",
        "import torch.nn as nn\n",
        "import torch.nn.functional as F\n",
        "import torch.optim as optim\n",
        "from torchvision import datasets, transforms\n",
        "\n",
        "# from utils import mnist, plot_graphs, plot_mnist, mnist_transform\n",
        "import numpy as np\n",
        "\n",
        "%matplotlib inline"
      ],
      "execution_count": 1,
      "outputs": []
    },
    {
      "cell_type": "markdown",
      "metadata": {
        "id": "jFJwLF0u5XL5"
      },
      "source": [
        "## Preprocessing"
      ]
    },
    {
      "cell_type": "code",
      "metadata": {
        "id": "S1OMlFIIlcML"
      },
      "source": [
        "mnist_transform = transforms.Compose([\n",
        "                transforms.ToTensor(),\n",
        "                transforms.Normalize((0.5,), (0.5,)),\n",
        "           ])\n",
        "\n",
        "train_loader, test_loader = mnist(batch_size=200, valid=0, transform=mnist_transform)"
      ],
      "execution_count": null,
      "outputs": []
    },
    {
      "cell_type": "markdown",
      "metadata": {
        "id": "uzHKVSBz5D4d"
      },
      "source": [
        "## Model (multilayered)"
      ]
    },
    {
      "cell_type": "code",
      "metadata": {
        "id": "O3qbeWYMlcML"
      },
      "source": [
        "class Encoder(nn.Module):\n",
        "    def __init__(self, latent_size=10):\n",
        "        super(Encoder, self).__init__()\n",
        "        self.fc1 = nn.Linear(28*28, latent_size * 4)\n",
        "        self.fc2 = nn.Linear(latent_size * 4, latent_size * 2)\n",
        "        self.fc3 = nn.Linear(latent_size * 2, latent_size)\n",
        "    \n",
        "    def forward(self, x):\n",
        "        x = torch.relu(self.fc1(x))\n",
        "        x = torch.relu(self.fc2(x))\n",
        "        x = self.fc3(x)\n",
        "        return x\n",
        "    \n",
        "class Decoder(nn.Module):\n",
        "    def __init__(self, latent_size=10):\n",
        "        super(Decoder, self).__init__()\n",
        "        self.fc1 = nn.Linear(latent_size, latent_size * 2)\n",
        "        self.fc2 = nn.Linear(latent_size * 2, latent_size * 4)\n",
        "        self.fc3 = nn.Linear(latent_size * 4, 28*28)\n",
        "    \n",
        "    def forward(self, x):\n",
        "        x = torch.relu(self.fc1(x))\n",
        "        x = torch.relu(self.fc2(x))\n",
        "        x = torch.tanh(self.fc3(x))\n",
        "        return x"
      ],
      "execution_count": null,
      "outputs": []
    },
    {
      "cell_type": "code",
      "metadata": {
        "id": "loFZOep1lcML"
      },
      "source": [
        "class Net(nn.Module):\n",
        "    def __init__(self, latent_size=10, loss_fn=F.mse_loss, lr=1e-4, l2=0.):\n",
        "        super(Net, self).__init__()\n",
        "        self.latent_size = latent_size\n",
        "        self.E = Encoder(latent_size)\n",
        "        self.D = Decoder(latent_size)\n",
        "        self.loss_fn = loss_fn\n",
        "        self._loss = None\n",
        "        self.optim = optim.Adam(self.parameters(), lr=lr, weight_decay=l2)\n",
        "        \n",
        "    def forward(self, x):\n",
        "        x = x.view(-1, 28*28)\n",
        "        h = self.E(x)\n",
        "        out = self.D(h)\n",
        "        return out\n",
        "\n",
        "    def encode(self, x):\n",
        "        with torch.no_grad():\n",
        "          return self.E(x)\n",
        "    \n",
        "    def decode(self, h):\n",
        "        with torch.no_grad():\n",
        "            return self.D(h)\n",
        "    \n",
        "    def loss(self, x, target, **kwargs):\n",
        "        target = target.view(-1, 28*28)\n",
        "        self._loss = self.loss_fn(x, target, **kwargs)\n",
        "        return self._loss"
      ],
      "execution_count": null,
      "outputs": []
    },
    {
      "cell_type": "code",
      "metadata": {
        "id": "zwe4orSSlcML"
      },
      "source": [
        "models = {'16': Net(16), '32': Net(32), '64': Net(64)}\n",
        "train_log = {k: [] for k in models}\n",
        "test_log = {k: [] for k in models}"
      ],
      "execution_count": null,
      "outputs": []
    },
    {
      "cell_type": "markdown",
      "metadata": {
        "id": "dnwIWm0X4gDk"
      },
      "source": [
        "## add_noise()"
      ]
    },
    {
      "cell_type": "code",
      "metadata": {
        "id": "s1kPFvF7lcML"
      },
      "source": [
        "def add_noise(x, mode='crop', elementwise=False):\n",
        "    # if np.random.randint(2):\n",
        "    #   return x\n",
        "    x = x.clone()\n",
        "    if elementwise:\n",
        "        if mode == 'crop':\n",
        "            for i in range(x.shape[0]):\n",
        "                img_part = np.random.randint(5)\n",
        "                zero_one = np.random.randint(2) * 2 - 1\n",
        "                if img_part == 0:\n",
        "                    x[i, :, :14, :14] = zero_one\n",
        "                elif img_part == 1:\n",
        "                    x[i, :, :14, 14:] = zero_one\n",
        "                elif img_part == 2:\n",
        "                    x[i, :, 14:, :14] = zero_one\n",
        "                elif img_part == 3:\n",
        "                    x[i, :, 14:, 14:] = zero_one\n",
        "                elif img_part == 4:\n",
        "                    x[i, :, 7:21, 7:21] = zero_one\n",
        "\n",
        "        elif mode == 'mirror':\n",
        "            for i in range(x.shape[0]):\n",
        "                img_part = np.random.randint(4)\n",
        "                dim = np.random.choice([1,2])\n",
        "                if img_part == 0:\n",
        "                  x[i, :, :14, :14] = torch.flip(x[i, :, :14, :14], (0,dim))\n",
        "                elif img_part == 1:\n",
        "                  x[i, :, :14, 14:] = torch.flip(x[i, :, :14, 14:], (0,dim))\n",
        "                elif img_part == 2:\n",
        "                  x[i, :, 14:, :14] = torch.flip(x[i, :, 14:, :14], (0,dim))\n",
        "                elif img_part == 3:\n",
        "                  x[i, :, 14:, 14:] = torch.flip(x[i, :, 14:, 14:], (0,dim))\n",
        "\n",
        "        elif mode == 'gaussian':\n",
        "            mean = 0.5\n",
        "            std = 0.5\n",
        "            x = x + torch.randn(x.size()) * std + mean   \n",
        "\n",
        "    else:\n",
        "        if mode == 'crop':\n",
        "            img_part = np.random.randint(5)\n",
        "            zero_one = np.random.randint(2) * 2 - 1\n",
        "            if img_part == 0:\n",
        "                x[:, :, :14, :14] = zero_one\n",
        "            elif img_part == 1:\n",
        "                x[:, :, :14, 14:] = zero_one\n",
        "            elif img_part == 2:\n",
        "                x[:, :, 14:, :14] = zero_one\n",
        "            elif img_part == 3:\n",
        "                x[:, :, 14:, 14:] = zero_one\n",
        "            elif img_part == 4:\n",
        "                x[:, :, 7:21, 7:21] = zero_one\n",
        "    return x\n"
      ],
      "execution_count": null,
      "outputs": []
    },
    {
      "cell_type": "markdown",
      "metadata": {
        "id": "4l1wLa2d4lLw"
      },
      "source": [
        "## train()"
      ]
    },
    {
      "cell_type": "code",
      "metadata": {
        "id": "JrVG6e1vlcML"
      },
      "source": [
        "def train(epoch, models, log=None):\n",
        "    train_size = len(train_loader.sampler)\n",
        "    for batch_idx, (data, _) in enumerate(train_loader):\n",
        "        noized = add_noise(data)\n",
        "        for model in models.values():\n",
        "            model.optim.zero_grad()\n",
        "            output = model(noized)\n",
        "            loss = model.loss(output, data)\n",
        "            loss.backward()\n",
        "            model.optim.step()\n",
        "            \n",
        "        if batch_idx % 150 == 0:\n",
        "            line = 'Train Epoch: {} [{:05d}/{}] '.format(\n",
        "                epoch, batch_idx * len(data), train_size)\n",
        "            losses = ' '.join(['{}: {:.6f}'.format(k, m._loss.item()) for k, m in models.items()])\n",
        "            print(line + losses)\n",
        "            \n",
        "    else:\n",
        "        batch_idx += 1\n",
        "        line = 'Train Epoch: {} [{:05d}/{}] '.format(\n",
        "            epoch, batch_idx * len(data), train_size)\n",
        "        losses = ' '.join(['{}: {:.6f}'.format(k, m._loss.item()) for k, m in models.items()])\n",
        "        if log is not None:\n",
        "            for k in models:\n",
        "                log[k].append(models[k]._loss)\n",
        "        print(line + losses)"
      ],
      "execution_count": null,
      "outputs": []
    },
    {
      "cell_type": "markdown",
      "metadata": {
        "id": "L26xuPe44oi7"
      },
      "source": [
        "## test()"
      ]
    },
    {
      "cell_type": "code",
      "metadata": {
        "id": "bRkSIuR3lcMM"
      },
      "source": [
        "avg_lambda = lambda l: 'loss: {:.4f}'.format(l)\n",
        "line = lambda i, l: '{}: '.format(i) + avg_lambda(l)\n",
        "    \n",
        "def test(models, loader, log=None):\n",
        "    test_size = len(loader.sampler)\n",
        "\n",
        "    test_loss = {k: 0. for k in models}\n",
        "    with torch.no_grad():\n",
        "        for data, _ in loader:\n",
        "            noized = add_noise(data)\n",
        "            output = {k: m(noized) for k, m in models.items()}\n",
        "            for k, m in models.items():\n",
        "                test_loss[k] += m.loss(output[k], data, reduction='sum').item() # sum up batch loss\n",
        "    \n",
        "    for k in models:\n",
        "        test_loss[k] /= (test_size * 784)\n",
        "        if log is not None:\n",
        "            log[k].append(test_loss[k])\n",
        "    \n",
        "    lines = '\\n'.join([line(k, test_loss[k]) for k in models]) + '\\n'\n",
        "    report = 'Test set:\\n' + lines        \n",
        "    print(report)"
      ],
      "execution_count": null,
      "outputs": []
    },
    {
      "cell_type": "markdown",
      "metadata": {
        "id": "0npPy7r3xRNa"
      },
      "source": [
        "## Аугментация данных и визуализация работы функции add_noise() в разных режимах ('crop', 'mirror', 'gaussian')\n"
      ]
    },
    {
      "cell_type": "code",
      "metadata": {
        "id": "mMhOX1sE9YPl"
      },
      "source": [
        "data, _ = next(iter(test_loader))\n",
        "noized_crop = add_noise(data, mode='crop', elementwise=True)\n",
        "noized_mirror = add_noise(data, mode='mirror', elementwise=True)\n",
        "noized_gaussian = add_noise(data, mode='gaussian', elementwise=True)\n",
        "output = models['64'](noized_crop[:50])\n",
        "to_plot = output.view(-1, 1, 28, 28).data.numpy()"
      ],
      "execution_count": null,
      "outputs": []
    },
    {
      "cell_type": "code",
      "metadata": {
        "colab": {
          "base_uri": "https://localhost:8080/",
          "height": 389
        },
        "id": "Lyp5zxU19T_X",
        "outputId": "272aa78c-7095-41f7-d8bc-e83f487ae827"
      },
      "source": [
        "print(\"Исходный набор:\")\n",
        "plot_mnist(data.data.numpy()[:10], (1, 10))\n",
        "print('Заплатки:')\n",
        "plot_mnist(noized_crop[:10], (1, 10))\n",
        "print('Отражения:')\n",
        "plot_mnist(noized_mirror[:10], (1, 10))\n",
        "print('Шум:')\n",
        "plot_mnist(noized_gaussian[:10], (1, 10))"
      ],
      "execution_count": null,
      "outputs": [
        {
          "output_type": "stream",
          "text": [
            "Исходный набор:\n"
          ],
          "name": "stdout"
        },
        {
          "output_type": "display_data",
          "data": {
            "image/png": "[encoded data removed]",
            "text/plain": [
              "<Figure size 800x80 with 10 Axes>"
            ]
          },
          "metadata": {
            "tags": []
          }
        },
        {
          "output_type": "stream",
          "text": [
            "Заплатки:\n"
          ],
          "name": "stdout"
        },
        {
          "output_type": "display_data",
          "data": {
            "image/png": "[encoded data removed]",
            "text/plain": [
              "<Figure size 800x80 with 10 Axes>"
            ]
          },
          "metadata": {
            "tags": []
          }
        },
        {
          "output_type": "stream",
          "text": [
            "Отражения:\n"
          ],
          "name": "stdout"
        },
        {
          "output_type": "display_data",
          "data": {
            "image/png": "[encoded data removed]",
            "text/plain": [
              "<Figure size 800x80 with 10 Axes>"
            ]
          },
          "metadata": {
            "tags": []
          }
        },
        {
          "output_type": "stream",
          "text": [
            "Шум:\n"
          ],
          "name": "stdout"
        },
        {
          "output_type": "display_data",
          "data": {
            "image/png": "[encoded data removed]",
            "text/plain": [
              "<Figure size 800x80 with 10 Axes>"
            ]
          },
          "metadata": {
            "tags": []
          }
        }
      ]
    },
    {
      "cell_type": "markdown",
      "metadata": {
        "id": "AHlxjuGc4vvG"
      },
      "source": [
        "## Обучение"
      ]
    },
    {
      "cell_type": "code",
      "metadata": {
        "colab": {
          "base_uri": "https://localhost:8080/"
        },
        "id": "8Qap59vslcMM",
        "outputId": "68b33f8d-b6a5-4735-a619-53040212bb17"
      },
      "source": [
        "for epoch in range(1, 21):\n",
        "    for model in models.values():\n",
        "        model.train()\n",
        "    train(epoch, models, train_log)\n",
        "    for model in models.values():\n",
        "        model.eval()\n",
        "    test(models, test_loader, test_log)"
      ],
      "execution_count": null,
      "outputs": [
        {
          "output_type": "stream",
          "text": [
            "Train Epoch: 1 [00000/60000] 16: 0.949840 32: 0.935832 64: 0.928344\n",
            "Train Epoch: 1 [30000/60000] 16: 0.890000 32: 0.801194 64: 0.489556\n",
            "Train Epoch: 1 [60000/60000] 16: 0.771193 32: 0.435343 64: 0.285575\n",
            "Test set:\n",
            "16: loss: 0.7549\n",
            "32: loss: 0.3994\n",
            "64: loss: 0.2768\n",
            "\n",
            "Train Epoch: 2 [00000/60000] 16: 0.745888 32: 0.380821 64: 0.274164\n",
            "Train Epoch: 2 [30000/60000] 16: 0.530150 32: 0.294500 64: 0.272003\n",
            "Train Epoch: 2 [60000/60000] 16: 0.365324 32: 0.274993 64: 0.263653\n",
            "Test set:\n",
            "16: loss: 0.3618\n",
            "32: loss: 0.2772\n",
            "64: loss: 0.2715\n",
            "\n",
            "Train Epoch: 3 [00000/60000] 16: 0.347300 32: 0.271311 64: 0.271138\n",
            "Train Epoch: 3 [30000/60000] 16: 0.311824 32: 0.281390 64: 0.275027\n",
            "Train Epoch: 3 [60000/60000] 16: 0.293295 32: 0.281222 64: 0.272441\n",
            "Test set:\n",
            "16: loss: 0.2818\n",
            "32: loss: 0.2737\n",
            "64: loss: 0.2654\n",
            "\n",
            "Train Epoch: 4 [00000/60000] 16: 0.278504 32: 0.268208 64: 0.258076\n",
            "Train Epoch: 4 [30000/60000] 16: 0.283178 32: 0.279883 64: 0.260473\n",
            "Train Epoch: 4 [60000/60000] 16: 0.284981 32: 0.283559 64: 0.263685\n",
            "Test set:\n",
            "16: loss: 0.2742\n",
            "32: loss: 0.2713\n",
            "64: loss: 0.2483\n",
            "\n",
            "Train Epoch: 5 [00000/60000] 16: 0.270509 32: 0.268935 64: 0.244168\n",
            "Train Epoch: 5 [30000/60000] 16: 0.271322 32: 0.269570 64: 0.248289\n",
            "Train Epoch: 5 [60000/60000] 16: 0.263694 32: 0.261858 64: 0.235455\n",
            "Test set:\n",
            "16: loss: 0.2719\n",
            "32: loss: 0.2703\n",
            "64: loss: 0.2447\n",
            "\n",
            "Train Epoch: 6 [00000/60000] 16: 0.259847 32: 0.258817 64: 0.243737\n",
            "Train Epoch: 6 [30000/60000] 16: 0.259656 32: 0.258390 64: 0.234001\n",
            "Train Epoch: 6 [60000/60000] 16: 0.260105 32: 0.258257 64: 0.229960\n",
            "Test set:\n",
            "16: loss: 0.2706\n",
            "32: loss: 0.2693\n",
            "64: loss: 0.2404\n",
            "\n",
            "Train Epoch: 7 [00000/60000] 16: 0.273547 32: 0.271744 64: 0.240374\n",
            "Train Epoch: 7 [30000/60000] 16: 0.268594 32: 0.267801 64: 0.240135\n",
            "Train Epoch: 7 [60000/60000] 16: 0.268211 32: 0.263265 64: 0.227581\n",
            "Test set:\n",
            "16: loss: 0.2692\n",
            "32: loss: 0.2677\n",
            "64: loss: 0.2319\n",
            "\n",
            "Train Epoch: 8 [00000/60000] 16: 0.271324 32: 0.270484 64: 0.231708\n",
            "Train Epoch: 8 [30000/60000] 16: 0.265837 32: 0.265357 64: 0.227237\n",
            "Train Epoch: 8 [60000/60000] 16: 0.270087 32: 0.266445 64: 0.221712\n",
            "Test set:\n",
            "16: loss: 0.2691\n",
            "32: loss: 0.2676\n",
            "64: loss: 0.2223\n",
            "\n",
            "Train Epoch: 9 [00000/60000] 16: 0.267377 32: 0.266578 64: 0.217436\n",
            "Train Epoch: 9 [30000/60000] 16: 0.276026 32: 0.274880 64: 0.237620\n",
            "Train Epoch: 9 [60000/60000] 16: 0.272530 32: 0.271083 64: 0.212683\n",
            "Test set:\n",
            "16: loss: 0.2680\n",
            "32: loss: 0.2652\n",
            "64: loss: 0.2118\n",
            "\n",
            "Train Epoch: 10 [00000/60000] 16: 0.271564 32: 0.270237 64: 0.211370\n",
            "Train Epoch: 10 [30000/60000] 16: 0.270290 32: 0.267787 64: 0.224063\n",
            "Train Epoch: 10 [60000/60000] 16: 0.265161 32: 0.258878 64: 0.204675\n",
            "Test set:\n",
            "16: loss: 0.2660\n",
            "32: loss: 0.2622\n",
            "64: loss: 0.2037\n",
            "\n",
            "Train Epoch: 11 [00000/60000] 16: 0.265862 32: 0.260621 64: 0.204569\n",
            "Train Epoch: 11 [30000/60000] 16: 0.260751 32: 0.256257 64: 0.204816\n",
            "Train Epoch: 11 [60000/60000] 16: 0.264509 32: 0.262439 64: 0.212958\n",
            "Test set:\n",
            "16: loss: 0.2642\n",
            "32: loss: 0.2602\n",
            "64: loss: 0.2004\n",
            "\n",
            "Train Epoch: 12 [00000/60000] 16: 0.271340 32: 0.267076 64: 0.214040\n",
            "Train Epoch: 12 [30000/60000] 16: 0.257745 32: 0.255032 64: 0.193173\n",
            "Train Epoch: 12 [60000/60000] 16: 0.268113 32: 0.265812 64: 0.198381\n",
            "Test set:\n",
            "16: loss: 0.2624\n",
            "32: loss: 0.2589\n",
            "64: loss: 0.1965\n",
            "\n",
            "Train Epoch: 13 [00000/60000] 16: 0.268101 32: 0.263776 64: 0.194044\n",
            "Train Epoch: 13 [30000/60000] 16: 0.262531 32: 0.260014 64: 0.206289\n",
            "Train Epoch: 13 [60000/60000] 16: 0.260267 32: 0.258026 64: 0.199762\n",
            "Test set:\n",
            "16: loss: 0.2603\n",
            "32: loss: 0.2575\n",
            "64: loss: 0.1926\n",
            "\n",
            "Train Epoch: 14 [00000/60000] 16: 0.260497 32: 0.258085 64: 0.201435\n",
            "Train Epoch: 14 [30000/60000] 16: 0.263229 32: 0.259381 64: 0.191302\n",
            "Train Epoch: 14 [60000/60000] 16: 0.261102 32: 0.258119 64: 0.185630\n",
            "Test set:\n",
            "16: loss: 0.2582\n",
            "32: loss: 0.2558\n",
            "64: loss: 0.1885\n",
            "\n",
            "Train Epoch: 15 [00000/60000] 16: 0.257191 32: 0.254703 64: 0.187395\n",
            "Train Epoch: 15 [30000/60000] 16: 0.253541 32: 0.251062 64: 0.198636\n",
            "Train Epoch: 15 [60000/60000] 16: 0.253587 32: 0.249828 64: 0.183410\n",
            "Test set:\n",
            "16: loss: 0.2565\n",
            "32: loss: 0.2529\n",
            "64: loss: 0.1851\n",
            "\n",
            "Train Epoch: 16 [00000/60000] 16: 0.260259 32: 0.257859 64: 0.200145\n",
            "Train Epoch: 16 [30000/60000] 16: 0.265031 32: 0.261875 64: 0.203695\n",
            "Train Epoch: 16 [60000/60000] 16: 0.245332 32: 0.240310 64: 0.174237\n",
            "Test set:\n",
            "16: loss: 0.2551\n",
            "32: loss: 0.2492\n",
            "64: loss: 0.1819\n",
            "\n",
            "Train Epoch: 17 [00000/60000] 16: 0.256056 32: 0.250620 64: 0.192142\n",
            "Train Epoch: 17 [30000/60000] 16: 0.243106 32: 0.238734 64: 0.177750\n",
            "Train Epoch: 17 [60000/60000] 16: 0.257089 32: 0.247398 64: 0.176675\n",
            "Test set:\n",
            "16: loss: 0.2541\n",
            "32: loss: 0.2457\n",
            "64: loss: 0.1820\n",
            "\n",
            "Train Epoch: 18 [00000/60000] 16: 0.256908 32: 0.249295 64: 0.196398\n",
            "Train Epoch: 18 [30000/60000] 16: 0.242009 32: 0.233690 64: 0.169043\n",
            "Train Epoch: 18 [60000/60000] 16: 0.252189 32: 0.244377 64: 0.177954\n",
            "Test set:\n",
            "16: loss: 0.2525\n",
            "32: loss: 0.2417\n",
            "64: loss: 0.1749\n",
            "\n",
            "Train Epoch: 19 [00000/60000] 16: 0.256021 32: 0.248159 64: 0.177892\n",
            "Train Epoch: 19 [30000/60000] 16: 0.255028 32: 0.247988 64: 0.194570\n",
            "Train Epoch: 19 [60000/60000] 16: 0.254959 32: 0.243963 64: 0.178511\n",
            "Test set:\n",
            "16: loss: 0.2514\n",
            "32: loss: 0.2396\n",
            "64: loss: 0.1743\n",
            "\n",
            "Train Epoch: 20 [00000/60000] 16: 0.249681 32: 0.240304 64: 0.168610\n",
            "Train Epoch: 20 [30000/60000] 16: 0.251168 32: 0.238615 64: 0.166599\n",
            "Train Epoch: 20 [60000/60000] 16: 0.244819 32: 0.230491 64: 0.165113\n",
            "Test set:\n",
            "16: loss: 0.2502\n",
            "32: loss: 0.2370\n",
            "64: loss: 0.1721\n",
            "\n"
          ],
          "name": "stdout"
        }
      ]
    },
    {
      "cell_type": "markdown",
      "metadata": {
        "id": "XmiuyqPq40Rx"
      },
      "source": [
        "### Визуализация результатов обучения"
      ]
    },
    {
      "cell_type": "code",
      "metadata": {
        "id": "A2-Ur8UJlcMM"
      },
      "source": [
        "data, _ = next(iter(test_loader))\n",
        "noized_crop = add_noise(data, mode='crop', elementwise=True)\n",
        "noized_mirror = add_noise(data, mode='mirror', elementwise=True)\n",
        "noized_gausiian = add_noise(data, mode='gaussian', elementwise=True)\n",
        "output = models['64'](noized_mirror[:50])\n",
        "to_plot = output.view(-1, 1, 28, 28).data.numpy()"
      ],
      "execution_count": null,
      "outputs": []
    },
    {
      "cell_type": "code",
      "metadata": {
        "colab": {
          "base_uri": "https://localhost:8080/",
          "height": 992
        },
        "id": "UUxLd_aglcMM",
        "outputId": "5512964c-7b03-4ef8-cdc6-659023e738ef"
      },
      "source": [
        "plot_mnist(data.data.numpy()[:50], (5, 10))\n",
        "plot_mnist(noized_mirror[:50], (5, 10))\n",
        "plot_mnist(to_plot, (5, 10))"
      ],
      "execution_count": null,
      "outputs": [
        {
          "output_type": "display_data",
          "data": {
            "image/png": "[encoded data removed]",
            "text/plain": [
              "<Figure size 800x400 with 50 Axes>"
            ]
          },
          "metadata": {
            "tags": []
          }
        },
        {
          "output_type": "display_data",
          "data": {
            "image/png": "[encoded data removed]",
            "text/plain": [
              "<Figure size 800x400 with 50 Axes>"
            ]
          },
          "metadata": {
            "tags": []
          }
        },
        {
          "output_type": "display_data",
          "data": {
            "image/png": "[encoded data removed]",
            "text/plain": [
              "<Figure size 800x400 with 50 Axes>"
            ]
          },
          "metadata": {
            "tags": []
          }
        }
      ]
    },
    {
      "cell_type": "markdown",
      "metadata": {
        "id": "cLcdTHbG8HvZ"
      },
      "source": [
        "# Отрисовываем двумерный латентный слой"
      ]
    },
    {
      "cell_type": "markdown",
      "metadata": {
        "id": "9kYjRdRxh_sC"
      },
      "source": [
        "## Import"
      ]
    },
    {
      "cell_type": "code",
      "metadata": {
        "id": "drAh9NJ7iB00"
      },
      "source": [
        "import torch\n",
        "import torch.nn as nn\n",
        "import torch.nn.functional as F\n",
        "import torch.optim as optim\n",
        "from torchvision import datasets, transforms\n",
        "\n",
        "# from utils import mnist, plot_graphs, plot_mnist, mnist_transform\n",
        "import numpy as np\n",
        "\n",
        "%matplotlib inline"
      ],
      "execution_count": null,
      "outputs": []
    },
    {
      "cell_type": "markdown",
      "metadata": {
        "id": "P0PiJA4HZVuA"
      },
      "source": [
        "## Preprocessing"
      ]
    },
    {
      "cell_type": "code",
      "metadata": {
        "id": "rkbxn-zNZaMj"
      },
      "source": [
        "mnist_transform = transforms.Compose([\n",
        "                transforms.ToTensor(),\n",
        "                transforms.Normalize((0.5,), (0.5,)),\n",
        "           ])\n",
        "\n",
        "train_loader, test_loader = mnist(batch_size=200, valid=0, transform=mnist_transform)"
      ],
      "execution_count": null,
      "outputs": []
    },
    {
      "cell_type": "markdown",
      "metadata": {
        "id": "vVEa9NAy_SI7"
      },
      "source": [
        "## переписываем модель, включив encoder и decoder в единый класс (мне так удобнее :))"
      ]
    },
    {
      "cell_type": "code",
      "metadata": {
        "id": "iXFMTc6q8rM3"
      },
      "source": [
        "class AE(nn.Module):\n",
        "  def __init__(self):\n",
        "        super(AE, self).__init__()\n",
        "        self.encoder = nn.Sequential(\n",
        "        nn.Linear(28*28, 64),\n",
        "        nn.ReLU(),\n",
        "        nn.Linear(64, 16),\n",
        "        nn.ReLU(),\n",
        "        nn.Linear(16, 2)\n",
        "        )\n",
        "        self.decoder = nn.Sequential(\n",
        "        nn.Linear(2, 16),\n",
        "        nn.ReLU(),\n",
        "        nn.Linear(16, 64),\n",
        "        nn.ReLU(),\n",
        "        nn.Linear(64, 28*28),\n",
        "        nn.Tanh()    \n",
        "        )\n",
        "\n",
        "  def forward(self, x):\n",
        "        x = x.view(-1, 28*28)\n",
        "        x = self.encoder(x)\n",
        "        x = self.decoder(x)\n",
        "        return x\n",
        "\n",
        "  def loss(self, x, target, **kwargs):\n",
        "        target = target.view(-1, 28*28)\n",
        "        self._loss = F.mse_loss(x, target, **kwargs)\n",
        "        return self._loss"
      ],
      "execution_count": null,
      "outputs": []
    },
    {
      "cell_type": "markdown",
      "metadata": {
        "id": "Ryh40FeKFOuQ"
      },
      "source": [
        "## train()"
      ]
    },
    {
      "cell_type": "code",
      "metadata": {
        "id": "iSVqEJWYFRz9"
      },
      "source": [
        "def train(model, num_epochs=5, learning_rate=0.0001, l2=0.):\n",
        "    # torch.manual_seed(42)\n",
        "    optimizer = torch.optim.Adam(model.parameters(),\n",
        "                                 lr=learning_rate, \n",
        "                                 weight_decay=l2)\n",
        "    # outputs = []\n",
        "    for epoch in range(num_epochs):\n",
        "        for data in train_loader:\n",
        "            img, _ = data\n",
        "            recon = model(img)\n",
        "            loss = model.loss(recon, img)\n",
        "            loss.backward()\n",
        "            optimizer.step()\n",
        "            optimizer.zero_grad()\n",
        "\n",
        "        print('Epoch:{}, Loss:{:.4f}'.format(epoch+1, float(loss)))\n",
        "    #     outputs.append((epoch, img, recon),)\n",
        "    # return outputs"
      ],
      "execution_count": null,
      "outputs": []
    },
    {
      "cell_type": "markdown",
      "metadata": {
        "id": "TbvyxS56HjxW"
      },
      "source": [
        "## Training"
      ]
    },
    {
      "cell_type": "code",
      "metadata": {
        "colab": {
          "base_uri": "https://localhost:8080/"
        },
        "id": "Ldt7UGGsHbs4",
        "outputId": "99056a4c-3b00-48f8-a1b4-0ee796f9a0d3"
      },
      "source": [
        "model = AE()\n",
        "max_epochs = 100\n",
        "train(model, num_epochs=max_epochs)"
      ],
      "execution_count": null,
      "outputs": [
        {
          "output_type": "stream",
          "text": [
            "Epoch:1, Loss:0.2792\n",
            "Epoch:2, Loss:0.2570\n",
            "Epoch:3, Loss:0.2500\n",
            "Epoch:4, Loss:0.2300\n",
            "Epoch:5, Loss:0.2313\n",
            "Epoch:6, Loss:0.2137\n",
            "Epoch:7, Loss:0.2208\n",
            "Epoch:8, Loss:0.2194\n",
            "Epoch:9, Loss:0.2202\n",
            "Epoch:10, Loss:0.2159\n",
            "Epoch:11, Loss:0.2110\n",
            "Epoch:12, Loss:0.2144\n",
            "Epoch:13, Loss:0.2131\n",
            "Epoch:14, Loss:0.2043\n",
            "Epoch:15, Loss:0.2081\n",
            "Epoch:16, Loss:0.1971\n",
            "Epoch:17, Loss:0.2020\n",
            "Epoch:18, Loss:0.2041\n",
            "Epoch:19, Loss:0.1999\n",
            "Epoch:20, Loss:0.1953\n",
            "Epoch:21, Loss:0.2020\n",
            "Epoch:22, Loss:0.1991\n",
            "Epoch:23, Loss:0.1879\n",
            "Epoch:24, Loss:0.1917\n",
            "Epoch:25, Loss:0.1896\n",
            "Epoch:26, Loss:0.1954\n",
            "Epoch:27, Loss:0.1906\n",
            "Epoch:28, Loss:0.1876\n",
            "Epoch:29, Loss:0.1909\n",
            "Epoch:30, Loss:0.1798\n",
            "Epoch:31, Loss:0.1876\n",
            "Epoch:32, Loss:0.1844\n",
            "Epoch:33, Loss:0.1866\n",
            "Epoch:34, Loss:0.1948\n",
            "Epoch:35, Loss:0.1840\n",
            "Epoch:36, Loss:0.1830\n",
            "Epoch:37, Loss:0.1888\n",
            "Epoch:38, Loss:0.1811\n",
            "Epoch:39, Loss:0.1761\n",
            "Epoch:40, Loss:0.1840\n",
            "Epoch:41, Loss:0.1785\n",
            "Epoch:42, Loss:0.1863\n",
            "Epoch:43, Loss:0.1896\n",
            "Epoch:44, Loss:0.1833\n",
            "Epoch:45, Loss:0.1806\n",
            "Epoch:46, Loss:0.1876\n",
            "Epoch:47, Loss:0.1826\n",
            "Epoch:48, Loss:0.1787\n",
            "Epoch:49, Loss:0.1826\n",
            "Epoch:50, Loss:0.1843\n",
            "Epoch:51, Loss:0.1821\n",
            "Epoch:52, Loss:0.1879\n",
            "Epoch:53, Loss:0.1848\n",
            "Epoch:54, Loss:0.1710\n",
            "Epoch:55, Loss:0.1784\n",
            "Epoch:56, Loss:0.1804\n",
            "Epoch:57, Loss:0.1845\n",
            "Epoch:58, Loss:0.1838\n",
            "Epoch:59, Loss:0.1793\n",
            "Epoch:60, Loss:0.1817\n",
            "Epoch:61, Loss:0.1746\n",
            "Epoch:62, Loss:0.1762\n",
            "Epoch:63, Loss:0.1770\n",
            "Epoch:64, Loss:0.1676\n",
            "Epoch:65, Loss:0.1838\n",
            "Epoch:66, Loss:0.1822\n",
            "Epoch:67, Loss:0.1783\n",
            "Epoch:68, Loss:0.1858\n",
            "Epoch:69, Loss:0.1771\n",
            "Epoch:70, Loss:0.1817\n",
            "Epoch:71, Loss:0.1873\n",
            "Epoch:72, Loss:0.1823\n",
            "Epoch:73, Loss:0.1779\n",
            "Epoch:74, Loss:0.1676\n",
            "Epoch:75, Loss:0.1744\n",
            "Epoch:76, Loss:0.1822\n",
            "Epoch:77, Loss:0.1765\n",
            "Epoch:78, Loss:0.1746\n",
            "Epoch:79, Loss:0.1751\n",
            "Epoch:80, Loss:0.1734\n",
            "Epoch:81, Loss:0.1756\n",
            "Epoch:82, Loss:0.1716\n",
            "Epoch:83, Loss:0.1731\n",
            "Epoch:84, Loss:0.1780\n",
            "Epoch:85, Loss:0.1808\n",
            "Epoch:86, Loss:0.1843\n",
            "Epoch:87, Loss:0.1652\n",
            "Epoch:88, Loss:0.1723\n",
            "Epoch:89, Loss:0.1719\n",
            "Epoch:90, Loss:0.1736\n",
            "Epoch:91, Loss:0.1650\n",
            "Epoch:92, Loss:0.1794\n",
            "Epoch:93, Loss:0.1726\n",
            "Epoch:94, Loss:0.1868\n",
            "Epoch:95, Loss:0.1722\n",
            "Epoch:96, Loss:0.1636\n",
            "Epoch:97, Loss:0.1756\n",
            "Epoch:98, Loss:0.1776\n",
            "Epoch:99, Loss:0.1747\n",
            "Epoch:100, Loss:0.1747\n"
          ],
          "name": "stdout"
        }
      ]
    },
    {
      "cell_type": "markdown",
      "metadata": {
        "id": "C9xcn3VQNtPm"
      },
      "source": [
        "## визуализация"
      ]
    },
    {
      "cell_type": "code",
      "metadata": {
        "colab": {
          "base_uri": "https://localhost:8080/"
        },
        "id": "qUkxNAGYNytl",
        "outputId": "717fc0ed-9f78-4eb5-c08e-3f1c9eaa1d23"
      },
      "source": [
        "images, labels = next(iter(train_loader))\n",
        "print(images.size())\n",
        "print(labels.size())"
      ],
      "execution_count": null,
      "outputs": [
        {
          "output_type": "stream",
          "text": [
            "torch.Size([200, 1, 28, 28])\n",
            "torch.Size([200])\n"
          ],
          "name": "stdout"
        }
      ]
    },
    {
      "cell_type": "code",
      "metadata": {
        "id": "oq6m315dSUMJ"
      },
      "source": [
        "images = images.view(-1, 28*28)\n",
        "enc = model.encoder(images)"
      ],
      "execution_count": null,
      "outputs": []
    },
    {
      "cell_type": "code",
      "metadata": {
        "colab": {
          "base_uri": "https://localhost:8080/"
        },
        "id": "9awJfUNrY_3t",
        "outputId": "522cf4b0-c037-4ecd-f23c-78c35d631806"
      },
      "source": [
        "enc.size()"
      ],
      "execution_count": null,
      "outputs": [
        {
          "output_type": "execute_result",
          "data": {
            "text/plain": [
              "torch.Size([200, 2])"
            ]
          },
          "metadata": {
            "tags": []
          },
          "execution_count": 98
        }
      ]
    },
    {
      "cell_type": "code",
      "metadata": {
        "id": "4S2zqf5TZLqj"
      },
      "source": [
        "enc = enc.detach().numpy()"
      ],
      "execution_count": null,
      "outputs": []
    },
    {
      "cell_type": "code",
      "metadata": {
        "colab": {
          "base_uri": "https://localhost:8080/",
          "height": 445
        },
        "id": "krg2CsmbTENs",
        "outputId": "244e2f11-7413-494d-cf50-bdee4c9627e5"
      },
      "source": [
        "fig, ax = plt.subplots(figsize=(12,7))\n",
        "scatter = ax.scatter(enc[:, 0], enc[:, 1], c=labels.numpy(), cmap='tab10')\n",
        "ax.legend(*scatter.legend_elements(), loc='upper right', title=\"Classes\", bbox_to_anchor=(1.08, 1.015));\n",
        "plt.title(f'Распределение классов в двумерном латентном слое на выборке из {enc.shape[0]} изображений MNIST');"
      ],
      "execution_count": null,
      "outputs": [
        {
          "output_type": "display_data",
          "data": {
            "image/png": "[encoded data removed]",
            "text/plain": [
              "<Figure size 864x504 with 1 Axes>"
            ]
          },
          "metadata": {
            "tags": [],
            "needs_background": "light"
          }
        }
      ]
    },
    {
      "cell_type": "markdown",
      "metadata": {
        "id": "T3pXnNjH-D9Z"
      },
      "source": [
        "Здесь понятно, что должно получиться в идеале - более-менее кучные кластеры по каждому из классов. Но поскольку сеть обучена так себе, то с кластерами тоже не очень сложилось. "
      ]
    },
    {
      "cell_type": "markdown",
      "metadata": {
        "id": "yA8QWRXoCNZU"
      },
      "source": [
        "# tSNE"
      ]
    },
    {
      "cell_type": "markdown",
      "metadata": {
        "id": "p3oGtwUUCWsT"
      },
      "source": [
        "## Import"
      ]
    },
    {
      "cell_type": "code",
      "metadata": {
        "id": "3vksPwjMCRZi"
      },
      "source": [
        "import torch\n",
        "import torch.nn as nn\n",
        "import torch.nn.functional as F\n",
        "import torch.optim as optim\n",
        "from torchvision import datasets, transforms\n",
        "\n",
        "# from utils import mnist, plot_graphs, plot_mnist, mnist_transform\n",
        "import numpy as np\n",
        "from sklearn.manifold import TSNE\n",
        "\n",
        "%matplotlib inline"
      ],
      "execution_count": null,
      "outputs": []
    },
    {
      "cell_type": "markdown",
      "metadata": {
        "id": "JngU6F3UCa2i"
      },
      "source": [
        "## Preprocessing"
      ]
    },
    {
      "cell_type": "code",
      "metadata": {
        "colab": {
          "base_uri": "https://localhost:8080/",
          "height": 573,
          "referenced_widgets": [
            "90b3cd660a4741babad14f5474ea7612",
            "941d1053c19748649df2b7e1346a890a",
            "2f56e32d87654a3cb18b0831ba383c6d",
            "6a88e806ae304c7fa80e7ebda4fdcfd2",
            "317c368e00834ce4a362d9b4ad7197b5",
            "73d84b59dab84090b80a0f399862a5f3",
            "49bfc969bff64e9583b78247e36e8aba",
            "fd0857467bb447bcb6733ab5a843a276",
            "f660303cae224309b29718ee9b36ff28",
            "16b13b197426477dbf2c4136df509762",
            "8940ffc3d1f842e2b995b9f2e828c5cb",
            "fee59c842eb04bc0bb0e61d6e50cc3bc",
            "2ed3a83323d1420baba2d7f1af0e60e6",
            "96d59d4200274659ad0a1cd575ceff0b",
            "1be56fd9b77746229b1508523e56383e",
            "4b47e662364048febf3fe9ad9fefd7c7",
            "6303285ecc0b4be990c7eb1b1579c5aa",
            "dc435c894ba446dbbeebf4863229c811",
            "592a3ddf50af443dbce120880edfbe4a",
            "5437688f989f4c2cb4437d93a03c1407",
            "dcedd3ffd7ff44c0ab8b4c162a4980e1",
            "3d962d34a59844a6ba58e511f733f37d",
            "fdfe62dd96684f8284a56ad28d831913",
            "0b8234e71be144449c70f020c310b627",
            "922eed84a56d4f5088154cc8a737eb62",
            "5567c34f889441099c7ffc07374611b4",
            "64624c9249b9417bb63b351bcbc3be8c",
            "2e5b1bffc6394e50ad2f5ab7f0b3add3",
            "f18144cc2de748fd9ebbd097a204d918",
            "b78c12ffbce349a186991d5294185a3c",
            "ddf047297be4492083d21b77f0f02cf2",
            "9302621728d644a08896ee2a8994e7aa"
          ]
        },
        "id": "zdyHwG03CeJb",
        "outputId": "320539a0-358a-4168-dc8b-2a17f2d70e9a"
      },
      "source": [
        "mnist_transform = transforms.Compose([\n",
        "                transforms.ToTensor(),\n",
        "                transforms.Normalize((0.5,), (0.5,)),\n",
        "           ])\n",
        "\n",
        "train_loader, test_loader = mnist(batch_size=200, valid=0, transform=mnist_transform)"
      ],
      "execution_count": null,
      "outputs": [
        {
          "output_type": "stream",
          "text": [
            "Downloading http://yann.lecun.com/exdb/mnist/train-images-idx3-ubyte.gz\n",
            "Downloading http://yann.lecun.com/exdb/mnist/train-images-idx3-ubyte.gz to ./MNIST_data/MNIST/raw/train-images-idx3-ubyte.gz\n"
          ],
          "name": "stdout"
        },
        {
          "output_type": "display_data",
          "data": {
            "application/vnd.jupyter.widget-view+json": {
              "model_id": "90b3cd660a4741babad14f5474ea7612",
              "version_minor": 0,
              "version_major": 2
            },
            "text/plain": [
              "HBox(children=(FloatProgress(value=0.0, max=9912422.0), HTML(value='')))"
            ]
          },
          "metadata": {
            "tags": []
          }
        },
        {
          "output_type": "stream",
          "text": [
            "\n",
            "Extracting ./MNIST_data/MNIST/raw/train-images-idx3-ubyte.gz to ./MNIST_data/MNIST/raw\n",
            "\n",
            "Downloading http://yann.lecun.com/exdb/mnist/train-labels-idx1-ubyte.gz\n",
            "Downloading http://yann.lecun.com/exdb/mnist/train-labels-idx1-ubyte.gz to ./MNIST_data/MNIST/raw/train-labels-idx1-ubyte.gz\n"
          ],
          "name": "stdout"
        },
        {
          "output_type": "display_data",
          "data": {
            "application/vnd.jupyter.widget-view+json": {
              "model_id": "f660303cae224309b29718ee9b36ff28",
              "version_minor": 0,
              "version_major": 2
            },
            "text/plain": [
              "HBox(children=(FloatProgress(value=0.0, max=28881.0), HTML(value='')))"
            ]
          },
          "metadata": {
            "tags": []
          }
        },
        {
          "output_type": "stream",
          "text": [
            "\n",
            "Extracting ./MNIST_data/MNIST/raw/train-labels-idx1-ubyte.gz to ./MNIST_data/MNIST/raw\n",
            "\n",
            "Downloading http://yann.lecun.com/exdb/mnist/t10k-images-idx3-ubyte.gz\n",
            "Downloading http://yann.lecun.com/exdb/mnist/t10k-images-idx3-ubyte.gz to ./MNIST_data/MNIST/raw/t10k-images-idx3-ubyte.gz\n"
          ],
          "name": "stdout"
        },
        {
          "output_type": "display_data",
          "data": {
            "application/vnd.jupyter.widget-view+json": {
              "model_id": "6303285ecc0b4be990c7eb1b1579c5aa",
              "version_minor": 0,
              "version_major": 2
            },
            "text/plain": [
              "HBox(children=(FloatProgress(value=0.0, max=1648877.0), HTML(value='')))"
            ]
          },
          "metadata": {
            "tags": []
          }
        },
        {
          "output_type": "stream",
          "text": [
            "\n",
            "Extracting ./MNIST_data/MNIST/raw/t10k-images-idx3-ubyte.gz to ./MNIST_data/MNIST/raw\n",
            "\n",
            "Downloading http://yann.lecun.com/exdb/mnist/t10k-labels-idx1-ubyte.gz\n",
            "Downloading http://yann.lecun.com/exdb/mnist/t10k-labels-idx1-ubyte.gz to ./MNIST_data/MNIST/raw/t10k-labels-idx1-ubyte.gz\n"
          ],
          "name": "stdout"
        },
        {
          "output_type": "display_data",
          "data": {
            "application/vnd.jupyter.widget-view+json": {
              "model_id": "922eed84a56d4f5088154cc8a737eb62",
              "version_minor": 0,
              "version_major": 2
            },
            "text/plain": [
              "HBox(children=(FloatProgress(value=0.0, max=4542.0), HTML(value='')))"
            ]
          },
          "metadata": {
            "tags": []
          }
        },
        {
          "output_type": "stream",
          "text": [
            "\n",
            "Extracting ./MNIST_data/MNIST/raw/t10k-labels-idx1-ubyte.gz to ./MNIST_data/MNIST/raw\n",
            "\n",
            "Processing...\n",
            "Done!\n"
          ],
          "name": "stdout"
        },
        {
          "output_type": "stream",
          "text": [
            "/usr/local/lib/python3.7/dist-packages/torchvision/datasets/mnist.py:502: UserWarning: The given NumPy array is not writeable, and PyTorch does not support non-writeable tensors. This means you can write to the underlying (supposedly non-writeable) NumPy array using the tensor. You may want to copy the array to protect its data or make it writeable before converting it to a tensor. This type of warning will be suppressed for the rest of this program. (Triggered internally at  /pytorch/torch/csrc/utils/tensor_numpy.cpp:143.)\n",
            "  return torch.from_numpy(parsed.astype(m[2], copy=False)).view(*s)\n"
          ],
          "name": "stderr"
        }
      ]
    },
    {
      "cell_type": "markdown",
      "metadata": {
        "id": "0WWrKFKOCjBu"
      },
      "source": [
        "## Model"
      ]
    },
    {
      "cell_type": "code",
      "metadata": {
        "id": "NFLsW9m0Cq-M"
      },
      "source": [
        "class AE_32(nn.Module):\n",
        "  def __init__(self):\n",
        "        super(AE_32, self).__init__()\n",
        "        self.encoder = nn.Sequential(\n",
        "        nn.Linear(28*28, 128),\n",
        "        nn.ReLU(),\n",
        "        nn.Linear(128, 64),\n",
        "        nn.ReLU(),\n",
        "        nn.Linear(64, 32)\n",
        "        )\n",
        "        self.decoder = nn.Sequential(\n",
        "        nn.Linear(32, 64),\n",
        "        nn.ReLU(),\n",
        "        nn.Linear(64, 128),\n",
        "        nn.ReLU(),\n",
        "        nn.Linear(128, 28*28),\n",
        "        nn.Tanh()    \n",
        "        )\n",
        "\n",
        "  def forward(self, x):\n",
        "        x = x.view(-1, 28*28)\n",
        "        x = self.encoder(x)\n",
        "        x = self.decoder(x)\n",
        "        return x\n",
        "\n",
        "  def loss(self, x, target, **kwargs):\n",
        "        target = target.view(-1, 28*28)\n",
        "        self._loss = F.mse_loss(x, target, **kwargs)\n",
        "        return self._loss"
      ],
      "execution_count": null,
      "outputs": []
    },
    {
      "cell_type": "markdown",
      "metadata": {
        "id": "kVA8iMVNC80p"
      },
      "source": [
        "## train()"
      ]
    },
    {
      "cell_type": "code",
      "metadata": {
        "id": "cA_lp-n7C_v0"
      },
      "source": [
        "def train(model, num_epochs=5, learning_rate=0.001, l2=0.):\n",
        "    # torch.manual_seed(42)\n",
        "    optimizer = torch.optim.Adam(model.parameters(),\n",
        "                                 lr=learning_rate, \n",
        "                                 weight_decay=l2)\n",
        "    # outputs = []\n",
        "    for epoch in range(num_epochs):\n",
        "        for data in train_loader:\n",
        "            img, _ = data\n",
        "            recon = model(img)\n",
        "            loss = model.loss(recon, img)\n",
        "            loss.backward()\n",
        "            optimizer.step()\n",
        "            optimizer.zero_grad()\n",
        "\n",
        "        print('Epoch:{}, Loss:{:.4f}'.format(epoch+1, float(loss)))\n",
        "    #     outputs.append((epoch, img, recon),)\n",
        "    # return outputs"
      ],
      "execution_count": null,
      "outputs": []
    },
    {
      "cell_type": "markdown",
      "metadata": {
        "id": "vSKOjsT_DN1G"
      },
      "source": [
        "## training"
      ]
    },
    {
      "cell_type": "code",
      "metadata": {
        "colab": {
          "base_uri": "https://localhost:8080/"
        },
        "id": "z-SnehArDHFA",
        "outputId": "d9f278c5-721e-403c-ff60-7e4fac7bf365"
      },
      "source": [
        "model = AE_32()\n",
        "max_epochs = 20\n",
        "train(model, num_epochs=max_epochs)"
      ],
      "execution_count": null,
      "outputs": [
        {
          "output_type": "stream",
          "text": [
            "Epoch:1, Loss:0.1263\n",
            "Epoch:2, Loss:0.0890\n",
            "Epoch:3, Loss:0.0791\n",
            "Epoch:4, Loss:0.0719\n",
            "Epoch:5, Loss:0.0661\n",
            "Epoch:6, Loss:0.0598\n",
            "Epoch:7, Loss:0.0531\n",
            "Epoch:8, Loss:0.0495\n",
            "Epoch:9, Loss:0.0493\n",
            "Epoch:10, Loss:0.0464\n",
            "Epoch:11, Loss:0.0484\n",
            "Epoch:12, Loss:0.0459\n",
            "Epoch:13, Loss:0.0442\n",
            "Epoch:14, Loss:0.0421\n",
            "Epoch:15, Loss:0.0428\n",
            "Epoch:16, Loss:0.0410\n",
            "Epoch:17, Loss:0.0403\n",
            "Epoch:18, Loss:0.0402\n",
            "Epoch:19, Loss:0.0400\n",
            "Epoch:20, Loss:0.0404\n"
          ],
          "name": "stdout"
        }
      ]
    },
    {
      "cell_type": "markdown",
      "metadata": {
        "id": "9TneCPCcGwSY"
      },
      "source": [
        "## Считаем латентный слой"
      ]
    },
    {
      "cell_type": "code",
      "metadata": {
        "colab": {
          "base_uri": "https://localhost:8080/"
        },
        "id": "fxB_h32UG2Cc",
        "outputId": "571d9343-1dbb-4f54-eddc-ffd98f35336b"
      },
      "source": [
        "images, labels = next(iter(train_loader))\n",
        "images = images.view(-1, 28*28)\n",
        "enc = model.encoder(images)\n",
        "enc.size()"
      ],
      "execution_count": null,
      "outputs": [
        {
          "output_type": "execute_result",
          "data": {
            "text/plain": [
              "torch.Size([200, 32])"
            ]
          },
          "metadata": {
            "tags": []
          },
          "execution_count": 10
        }
      ]
    },
    {
      "cell_type": "markdown",
      "metadata": {
        "id": "LjSIvNKMHChn"
      },
      "source": [
        "## скармливаем получившееся в tSNE"
      ]
    },
    {
      "cell_type": "code",
      "metadata": {
        "id": "NGqN_bQmHKzS"
      },
      "source": [
        "result = TSNE(random_state=42).fit_transform(enc.detach().numpy())"
      ],
      "execution_count": null,
      "outputs": []
    },
    {
      "cell_type": "code",
      "metadata": {
        "colab": {
          "base_uri": "https://localhost:8080/"
        },
        "id": "PsZv5dCYIe5w",
        "outputId": "30443420-7de1-4460-d904-da81e64edd6e"
      },
      "source": [
        "result.shape"
      ],
      "execution_count": null,
      "outputs": [
        {
          "output_type": "execute_result",
          "data": {
            "text/plain": [
              "(200, 2)"
            ]
          },
          "metadata": {
            "tags": []
          },
          "execution_count": 15
        }
      ]
    },
    {
      "cell_type": "markdown",
      "metadata": {
        "id": "tauM02THIkGF"
      },
      "source": [
        "## рисуем"
      ]
    },
    {
      "cell_type": "code",
      "metadata": {
        "colab": {
          "base_uri": "https://localhost:8080/",
          "height": 445
        },
        "id": "QslWJr0gIm4A",
        "outputId": "a4d45ebe-0aa1-4474-b7d4-8ec9c785e1d2"
      },
      "source": [
        "fig, ax = plt.subplots(figsize=(12,7))\n",
        "scatter = ax.scatter(result[:, 0], result[:, 1], c=labels.numpy(), cmap='tab10')\n",
        "ax.legend(*scatter.legend_elements(), loc='upper right', title=\"Classes\", bbox_to_anchor=(1.08, 1.015));\n",
        "plt.title(f'Распределение классов на выборке из {enc.shape[0]} изображений MNIST (32-dim слой после tSNE)');"
      ],
      "execution_count": null,
      "outputs": [
        {
          "output_type": "display_data",
          "data": {
            "image/png": "[encoded data removed]",
            "text/plain": [
              "<Figure size 864x504 with 1 Axes>"
            ]
          },
          "metadata": {
            "tags": [],
            "needs_background": "light"
          }
        }
      ]
    },
    {
      "cell_type": "markdown",
      "metadata": {
        "id": "4GJs1uxGMROq"
      },
      "source": [
        "Уже лучше (по сравнению с предыдущим заданием), но всё равно хотелось бы покучнее. Но это я еще не крутил параметры tSNE."
      ]
    },
    {
      "cell_type": "markdown",
      "metadata": {
        "id": "azm0t3jy9kCO"
      },
      "source": [
        "# Convolutional autoencoder - это так, для себя побаловаться"
      ]
    },
    {
      "cell_type": "markdown",
      "metadata": {
        "id": "9b07nGlH0Udx"
      },
      "source": [
        "## Preprocessing"
      ]
    },
    {
      "cell_type": "code",
      "metadata": {
        "id": "ANBmnkJK0R0H",
        "colab": {
          "base_uri": "https://localhost:8080/",
          "height": 760,
          "referenced_widgets": [
            "15d9ba226812449b8bcf0be30233003d",
            "f410effa14a34305b2c9cb2658a4c434",
            "3e9295d78b034fe59bf47c8709002441",
            "fd10d8c9e7fb4b209770d2b7cf73dcea",
            "4e76222c15d54f0cb246987caf615257",
            "9f6b2a4925ea4c6385e77c4d8417bdd4",
            "5c52dfa401ea416dbf955daa89b300ed",
            "4cdd7a3ec4f74db5bcae3756c4c2fa90",
            "67ae30090705490d9a0f3d6ed4be0fe7",
            "18b73846d263462fbea670488239ae11",
            "df4c83c080994ebb91c97d1c290c07a6",
            "08493c8f9139463a88d201e12efb9ccc",
            "e25b6bfe44394ab3afb338bf4150481b",
            "908733fff51b44598a059098506305d7",
            "edf5ff2966964dfa96d8c73cfc445211",
            "c6cc1af955a949048f44460ecc960b8f",
            "f5e22e6ace1c45fb8d8e90cca15d9377",
            "cba8d192e6ba42dcaa24983712cecc2d",
            "b43179bf216c465aa3e80d7a24f0be1b",
            "c538d737f00845e4a62b16b0d405f5b6",
            "9d4f9cd52c4747eab15a7d516c136774",
            "03b51009690b4e258c8d11ea5d15962f",
            "2c97c7fb3b664c6f9de8d529d6a692fe",
            "3ccf493eaa0248209fc02ef594e516ff",
            "bc37a937a4ed443184f922ab97351916",
            "88a7cb15807c453bba8340facf4f5888",
            "8ff87b73abda4d458b3648d684835348",
            "94e962a1bd574261b84a70f06b6acb20",
            "6603568dbdd84d188b273bf743fd9549",
            "893db255356242e6b2e45f3eb0e74de0",
            "33467da4a8594adda105e525ebea649a",
            "33811cc2d2444f49a899541a58cacf2d"
          ]
        },
        "outputId": "b0c92600-8269-47e4-cde8-d5b97f1f582f"
      },
      "source": [
        "mnist_data = datasets.MNIST('./MNIST_data', train=True, download=True, transform=transforms.ToTensor())\n",
        "mnist_data = list(mnist_data)[:4096]\n",
        "train_loader = DataLoader(mnist_data, batch_size=64, shuffle=True)"
      ],
      "execution_count": 3,
      "outputs": [
        {
          "output_type": "stream",
          "text": [
            "Downloading http://yann.lecun.com/exdb/mnist/train-images-idx3-ubyte.gz\n",
            "Failed to download (trying next):\n",
            "HTTP Error 503: Service Unavailable\n",
            "\n",
            "Downloading https://ossci-datasets.s3.amazonaws.com/mnist/train-images-idx3-ubyte.gz\n",
            "Downloading https://ossci-datasets.s3.amazonaws.com/mnist/train-images-idx3-ubyte.gz to ./MNIST_data/MNIST/raw/train-images-idx3-ubyte.gz\n"
          ],
          "name": "stdout"
        },
        {
          "output_type": "display_data",
          "data": {
            "application/vnd.jupyter.widget-view+json": {
              "model_id": "15d9ba226812449b8bcf0be30233003d",
              "version_minor": 0,
              "version_major": 2
            },
            "text/plain": [
              "HBox(children=(FloatProgress(value=0.0, max=9912422.0), HTML(value='')))"
            ]
          },
          "metadata": {
            "tags": []
          }
        },
        {
          "output_type": "stream",
          "text": [
            "\n",
            "Extracting ./MNIST_data/MNIST/raw/train-images-idx3-ubyte.gz to ./MNIST_data/MNIST/raw\n",
            "\n",
            "Downloading http://yann.lecun.com/exdb/mnist/train-labels-idx1-ubyte.gz\n",
            "Downloading http://yann.lecun.com/exdb/mnist/train-labels-idx1-ubyte.gz to ./MNIST_data/MNIST/raw/train-labels-idx1-ubyte.gz\n"
          ],
          "name": "stdout"
        },
        {
          "output_type": "display_data",
          "data": {
            "application/vnd.jupyter.widget-view+json": {
              "model_id": "67ae30090705490d9a0f3d6ed4be0fe7",
              "version_minor": 0,
              "version_major": 2
            },
            "text/plain": [
              "HBox(children=(FloatProgress(value=0.0, max=28881.0), HTML(value='')))"
            ]
          },
          "metadata": {
            "tags": []
          }
        },
        {
          "output_type": "stream",
          "text": [
            "\n",
            "Extracting ./MNIST_data/MNIST/raw/train-labels-idx1-ubyte.gz to ./MNIST_data/MNIST/raw\n",
            "\n",
            "Downloading http://yann.lecun.com/exdb/mnist/t10k-images-idx3-ubyte.gz\n",
            "Downloading http://yann.lecun.com/exdb/mnist/t10k-images-idx3-ubyte.gz to ./MNIST_data/MNIST/raw/t10k-images-idx3-ubyte.gz\n",
            "Failed to download (trying next):\n",
            "HTTP Error 503: Service Unavailable\n",
            "\n",
            "Downloading https://ossci-datasets.s3.amazonaws.com/mnist/t10k-images-idx3-ubyte.gz\n",
            "Downloading https://ossci-datasets.s3.amazonaws.com/mnist/t10k-images-idx3-ubyte.gz to ./MNIST_data/MNIST/raw/t10k-images-idx3-ubyte.gz\n"
          ],
          "name": "stdout"
        },
        {
          "output_type": "display_data",
          "data": {
            "application/vnd.jupyter.widget-view+json": {
              "model_id": "f5e22e6ace1c45fb8d8e90cca15d9377",
              "version_minor": 0,
              "version_major": 2
            },
            "text/plain": [
              "HBox(children=(FloatProgress(value=0.0, max=1648877.0), HTML(value='')))"
            ]
          },
          "metadata": {
            "tags": []
          }
        },
        {
          "output_type": "stream",
          "text": [
            "\n",
            "Extracting ./MNIST_data/MNIST/raw/t10k-images-idx3-ubyte.gz to ./MNIST_data/MNIST/raw\n",
            "\n",
            "Downloading http://yann.lecun.com/exdb/mnist/t10k-labels-idx1-ubyte.gz\n",
            "Failed to download (trying next):\n",
            "HTTP Error 503: Service Unavailable\n",
            "\n",
            "Downloading https://ossci-datasets.s3.amazonaws.com/mnist/t10k-labels-idx1-ubyte.gz\n",
            "Downloading https://ossci-datasets.s3.amazonaws.com/mnist/t10k-labels-idx1-ubyte.gz to ./MNIST_data/MNIST/raw/t10k-labels-idx1-ubyte.gz\n"
          ],
          "name": "stdout"
        },
        {
          "output_type": "display_data",
          "data": {
            "application/vnd.jupyter.widget-view+json": {
              "model_id": "bc37a937a4ed443184f922ab97351916",
              "version_minor": 0,
              "version_major": 2
            },
            "text/plain": [
              "HBox(children=(FloatProgress(value=0.0, max=4542.0), HTML(value='')))"
            ]
          },
          "metadata": {
            "tags": []
          }
        },
        {
          "output_type": "stream",
          "text": [
            "\n",
            "Extracting ./MNIST_data/MNIST/raw/t10k-labels-idx1-ubyte.gz to ./MNIST_data/MNIST/raw\n",
            "\n"
          ],
          "name": "stdout"
        },
        {
          "output_type": "stream",
          "text": [
            "/usr/local/lib/python3.7/dist-packages/torchvision/datasets/mnist.py:498: UserWarning: The given NumPy array is not writeable, and PyTorch does not support non-writeable tensors. This means you can write to the underlying (supposedly non-writeable) NumPy array using the tensor. You may want to copy the array to protect its data or make it writeable before converting it to a tensor. This type of warning will be suppressed for the rest of this program. (Triggered internally at  /pytorch/torch/csrc/utils/tensor_numpy.cpp:180.)\n",
            "  return torch.from_numpy(parsed.astype(m[2], copy=False)).view(*s)\n"
          ],
          "name": "stderr"
        }
      ]
    },
    {
      "cell_type": "markdown",
      "metadata": {
        "id": "6GCdFIqNWrhL"
      },
      "source": [
        "## add_noise()"
      ]
    },
    {
      "cell_type": "code",
      "metadata": {
        "id": "lOk_UWEHWqKV"
      },
      "source": [
        "def add_noise(x, mode='crop', elementwise=False):\n",
        "    # if np.random.randint(2):\n",
        "    #   return x\n",
        "    x = x.clone()\n",
        "    if elementwise:\n",
        "        if mode == 'crop':\n",
        "            for i in range(x.shape[0]):\n",
        "                img_part = np.random.randint(5)\n",
        "                zero_one = np.random.randint(2) * 2 - 1\n",
        "                if img_part == 0:\n",
        "                    x[i, :, :14, :14] = zero_one\n",
        "                elif img_part == 1:\n",
        "                    x[i, :, :14, 14:] = zero_one\n",
        "                elif img_part == 2:\n",
        "                    x[i, :, 14:, :14] = zero_one\n",
        "                elif img_part == 3:\n",
        "                    x[i, :, 14:, 14:] = zero_one\n",
        "                elif img_part == 4:\n",
        "                    x[i, :, 7:21, 7:21] = zero_one\n",
        "\n",
        "        elif mode == 'mirror':\n",
        "            for i in range(x.shape[0]):\n",
        "                img_part = np.random.randint(4)\n",
        "                dim = np.random.choice([1,2])\n",
        "                if img_part == 0:\n",
        "                  x[i, :, :14, :14] = torch.flip(x[i, :, :14, :14], (0,dim))\n",
        "                elif img_part == 1:\n",
        "                  x[i, :, :14, 14:] = torch.flip(x[i, :, :14, 14:], (0,dim))\n",
        "                elif img_part == 2:\n",
        "                  x[i, :, 14:, :14] = torch.flip(x[i, :, 14:, :14], (0,dim))\n",
        "                elif img_part == 3:\n",
        "                  x[i, :, 14:, 14:] = torch.flip(x[i, :, 14:, 14:], (0,dim))\n",
        "\n",
        "        elif mode == 'gaussian':\n",
        "            mean = 0.5\n",
        "            std = 0.5\n",
        "            x = x + torch.randn(x.size()) * std + mean   \n",
        "\n",
        "    else:\n",
        "        if mode == 'crop':\n",
        "            img_part = np.random.randint(5)\n",
        "            zero_one = np.random.randint(2) * 2 - 1\n",
        "            if img_part == 0:\n",
        "                x[:, :, :14, :14] = zero_one\n",
        "            elif img_part == 1:\n",
        "                x[:, :, :14, 14:] = zero_one\n",
        "            elif img_part == 2:\n",
        "                x[:, :, 14:, :14] = zero_one\n",
        "            elif img_part == 3:\n",
        "                x[:, :, 14:, 14:] = zero_one\n",
        "            elif img_part == 4:\n",
        "                x[:, :, 7:21, 7:21] = zero_one\n",
        "    return x\n"
      ],
      "execution_count": 4,
      "outputs": []
    },
    {
      "cell_type": "markdown",
      "metadata": {
        "id": "JIHAvTBD9rov"
      },
      "source": [
        "## Модель\n"
      ]
    },
    {
      "cell_type": "code",
      "metadata": {
        "colab": {
          "base_uri": "https://localhost:8080/"
        },
        "id": "HKX7aM3Yl2Wb",
        "outputId": "ff344e72-2308-479a-ec04-4097f705dd8e"
      },
      "source": [
        "device = torch.device('cuda' if torch.cuda.is_available() else 'cpu')\n",
        "device"
      ],
      "execution_count": 5,
      "outputs": [
        {
          "output_type": "execute_result",
          "data": {
            "text/plain": [
              "device(type='cuda')"
            ]
          },
          "metadata": {
            "tags": []
          },
          "execution_count": 5
        }
      ]
    },
    {
      "cell_type": "code",
      "metadata": {
        "colab": {
          "base_uri": "https://localhost:8080/"
        },
        "id": "ddtMZooX9qZA",
        "outputId": "e6368ebe-dba9-4679-c6a7-fe7b1d1aef38"
      },
      "source": [
        "class ConvAE(nn.Module):\n",
        "    def __init__(self):\n",
        "        super(ConvAE, self).__init__()\n",
        "        # encoder\n",
        "        self.conv1 = nn.Conv2d(1, 16, 3, stride=2, padding=1)\n",
        "        self.conv2 = nn.Conv2d(16, 32, 3, stride=2, padding=1)\n",
        "        self.conv3 = nn.Conv2d(32, 64, 7)\n",
        "        # decoder\n",
        "        self.t_conv1 = nn.ConvTranspose2d(64, 32, 7)\n",
        "        self.t_conv2 = nn.ConvTranspose2d(32, 16, 3, stride=2, padding=1, output_padding=1)\n",
        "        self.t_conv3 = nn.ConvTranspose2d(16, 1, 3, stride=2, padding=1, output_padding=1)\n",
        "\n",
        "    def forward(self, x):\n",
        "      # encode\n",
        "      x = F.relu(self.conv1(x))\n",
        "      x = F.relu(self.conv2(x))\n",
        "      x = self.conv3(x)\n",
        "      # decode\n",
        "      x = F.relu(self.t_conv1(x))\n",
        "      x = F.relu(self.t_conv2(x))\n",
        "      x = torch.sigmoid(self.t_conv3(x))\n",
        "\n",
        "      return x\n",
        "\n",
        "model = ConvAE()\n",
        "model = model.to(device)\n",
        "print(model)"
      ],
      "execution_count": 6,
      "outputs": [
        {
          "output_type": "stream",
          "text": [
            "ConvAE(\n",
            "  (conv1): Conv2d(1, 16, kernel_size=(3, 3), stride=(2, 2), padding=(1, 1))\n",
            "  (conv2): Conv2d(16, 32, kernel_size=(3, 3), stride=(2, 2), padding=(1, 1))\n",
            "  (conv3): Conv2d(32, 64, kernel_size=(7, 7), stride=(1, 1))\n",
            "  (t_conv1): ConvTranspose2d(64, 32, kernel_size=(7, 7), stride=(1, 1))\n",
            "  (t_conv2): ConvTranspose2d(32, 16, kernel_size=(3, 3), stride=(2, 2), padding=(1, 1), output_padding=(1, 1))\n",
            "  (t_conv3): ConvTranspose2d(16, 1, kernel_size=(3, 3), stride=(2, 2), padding=(1, 1), output_padding=(1, 1))\n",
            ")\n"
          ],
          "name": "stdout"
        }
      ]
    },
    {
      "cell_type": "markdown",
      "metadata": {
        "id": "xhEU4KJ6A8Vv"
      },
      "source": [
        "## Обучение"
      ]
    },
    {
      "cell_type": "markdown",
      "metadata": {
        "id": "C863Nm9Y19wD"
      },
      "source": [
        "### train()"
      ]
    },
    {
      "cell_type": "code",
      "metadata": {
        "id": "URrw34_uBZ37"
      },
      "source": [
        "def train(model, n_epochs=5, learning_rate=1e-3):\n",
        "  torch.manual_seed(42)\n",
        "  criterion = nn.MSELoss()\n",
        "  optimizer = torch.optim.Adam(model.parameters(), lr=learning_rate, weight_decay=1e-5)\n",
        "  outputs = []\n",
        "  for epoch in range(n_epochs):\n",
        "    for data in train_loader:\n",
        "      images, _ = data\n",
        "      images = add_noise(images, mode='mirror', elementwise=True)\n",
        "      images = images.to(device)\n",
        "      optimizer.zero_grad()\n",
        "      recon = model(images)\n",
        "      loss = criterion(recon, images)\n",
        "      loss.backward()\n",
        "      optimizer.step()\n",
        "           \n",
        "    print('Epoch:{}, Loss:{:.4f}'.format(epoch+1, float(loss)))\n",
        "    outputs.append((epoch, images, recon),)\n",
        "\n",
        "  return outputs\n",
        "    "
      ],
      "execution_count": 7,
      "outputs": []
    },
    {
      "cell_type": "code",
      "metadata": {
        "colab": {
          "base_uri": "https://localhost:8080/"
        },
        "id": "vwu9M2t_2Atk",
        "outputId": "5a1f314c-5496-46ee-a457-65ecae25e9eb"
      },
      "source": [
        "outputs = train(model, n_epochs=20)"
      ],
      "execution_count": 8,
      "outputs": [
        {
          "output_type": "stream",
          "text": [
            "Epoch:1, Loss:0.0807\n",
            "Epoch:2, Loss:0.0817\n",
            "Epoch:3, Loss:0.0737\n",
            "Epoch:4, Loss:0.0694\n",
            "Epoch:5, Loss:0.0460\n",
            "Epoch:6, Loss:0.0341\n",
            "Epoch:7, Loss:0.0299\n",
            "Epoch:8, Loss:0.0242\n",
            "Epoch:9, Loss:0.0234\n",
            "Epoch:10, Loss:0.0172\n",
            "Epoch:11, Loss:0.0151\n",
            "Epoch:12, Loss:0.0160\n",
            "Epoch:13, Loss:0.0166\n",
            "Epoch:14, Loss:0.0133\n",
            "Epoch:15, Loss:0.0128\n",
            "Epoch:16, Loss:0.0118\n",
            "Epoch:17, Loss:0.0109\n",
            "Epoch:18, Loss:0.0105\n",
            "Epoch:19, Loss:0.0104\n",
            "Epoch:20, Loss:0.0094\n"
          ],
          "name": "stdout"
        }
      ]
    },
    {
      "cell_type": "markdown",
      "metadata": {
        "id": "Ula1Ux2i5vtN"
      },
      "source": [
        "### Визуализация"
      ]
    },
    {
      "cell_type": "code",
      "metadata": {
        "colab": {
          "base_uri": "https://localhost:8080/",
          "height": 581
        },
        "id": "J_iIhrW-5zMk",
        "outputId": "34f2a447-7f63-457a-86b8-0f589bd8005e"
      },
      "source": [
        "for k in range(0, 20, 5):\n",
        "    plt.figure(figsize=(9, 2))\n",
        "    imgs = outputs[k][1].cpu().detach().numpy()\n",
        "    recon = outputs[k][2].cpu().detach().numpy()\n",
        "    for i, item in enumerate(imgs):\n",
        "        if i >= 9: break\n",
        "        plt.subplot(2, 9, i+1)\n",
        "        plt.imshow(item[0])\n",
        "        \n",
        "    for i, item in enumerate(recon):\n",
        "        if i >= 9: break\n",
        "        plt.subplot(2, 9, 9+i+1)\n",
        "        plt.imshow(item[0])"
      ],
      "execution_count": 9,
      "outputs": [
        {
          "output_type": "display_data",
          "data": {
            "image/png": "[encoded data removed]",
            "text/plain": [
              "<Figure size 648x144 with 18 Axes>"
            ]
          },
          "metadata": {
            "tags": [],
            "needs_background": "light"
          }
        },
        {
          "output_type": "display_data",
          "data": {
            "image/png": "[encoded data removed]",
            "text/plain": [
              "<Figure size 648x144 with 18 Axes>"
            ]
          },
          "metadata": {
            "tags": [],
            "needs_background": "light"
          }
        },
        {
          "output_type": "display_data",
          "data": {
            "image/png": "[encoded data removed]",
            "text/plain": [
              "<Figure size 648x144 with 18 Axes>"
            ]
          },
          "metadata": {
            "tags": [],
            "needs_background": "light"
          }
        },
        {
          "output_type": "display_data",
          "data": {
            "image/png": "[encoded data removed]",
            "text/plain": [
              "<Figure size 648x144 with 18 Axes>"
            ]
          },
          "metadata": {
            "tags": [],
            "needs_background": "light"
          }
        }
      ]
    }
  ]
}